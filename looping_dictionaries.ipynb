{
 "cells": [
  {
   "cell_type": "code",
   "execution_count": 14,
   "metadata": {},
   "outputs": [
    {
     "name": "stdout",
     "output_type": "stream",
     "text": [
      "Key: username\n",
      "Value: chukach\n",
      "\n",
      "Key: first name\n",
      "Value: chuka\n",
      "\n",
      "Key: last name\n",
      "Value: ufomadu\n",
      "\n"
     ]
    }
   ],
   "source": [
    "# using a \"for loop\" to loop through a dictionary\n",
    "user_0 = {\n",
    "    'username': 'chukach',\n",
    "    'first name': 'chuka',\n",
    "    'last name': 'ufomadu',\n",
    "}\n",
    "for k, v in user_0.items():\n",
    "    print(\"Key: \" + k + \"\\nValue: \" + v + \"\\n\")"
   ]
  },
  {
   "cell_type": "code",
   "execution_count": 20,
   "metadata": {},
   "outputs": [
    {
     "name": "stdout",
     "output_type": "stream",
     "text": [
      "Jen's favorite number is 5.\n",
      "Ken's favorite number is 6.\n",
      "Chubaca's favorite number is 7.\n",
      "Titus's favorite number is 4.\n",
      "Reggie's favorite number is 9.\n"
     ]
    }
   ],
   "source": [
    "# a \".items()\" method is used to loop through all the key-value pairs in a dictionary via a \"for loop\"\n",
    "favorite_numbers = {\n",
    "    'jen': 5,\n",
    "    'ken': 6,\n",
    "    'chubaca': 7,\n",
    "    'titus': 4,\n",
    "    'reggie': 9,\n",
    "}\n",
    "for name, number in favorite_numbers.items():\n",
    "    print(name.title() + \"'s favorite number is \" + str(number) + \".\")\n"
   ]
  },
  {
   "cell_type": "code",
   "execution_count": 22,
   "metadata": {},
   "outputs": [
    {
     "name": "stdout",
     "output_type": "stream",
     "text": [
      "Jen\n",
      "Ken\n",
      "Chubaca\n",
      "Titus\n",
      "Reggie\n"
     ]
    }
   ],
   "source": [
    "# use the \".keys()\" method to loop through the keys in a dictionary. \n",
    "# looping through the keys is the default method when no method is applied to a dictionary name\n",
    "favorite_numbers = {\n",
    "    'jen': 5,\n",
    "    'ken': 6,\n",
    "    'chubaca': 7,\n",
    "    'titus': 4,\n",
    "    'reggie': 9,\n",
    "}\n",
    "for name in favorite_numbers.keys():\n",
    "    print(name.title())"
   ]
  },
  {
   "cell_type": "code",
   "execution_count": 51,
   "metadata": {},
   "outputs": [
    {
     "name": "stdout",
     "output_type": "stream",
     "text": [
      "Jen\n",
      "Ken\n",
      "Hi Ken, I heard your favorite number is 6\n",
      "Chubaca\n",
      "Titus\n",
      "Reggie\n",
      "Erin please take our poll!\n"
     ]
    }
   ],
   "source": [
    "# we can use the \".keys()\" method to find out if a particular person was polled or not\n",
    "favorite_numbers = {\n",
    "    'jen': 5,\n",
    "    'ken': 6,\n",
    "    'chubaca': 7,\n",
    "    'titus': 4,\n",
    "    'reggie': 9,\n",
    "}\n",
    "friends = ['ken', 'obi']\n",
    "for name in favorite_numbers:\n",
    "    print(name.title())\n",
    "    if name in friends:\n",
    "        print(\"Hi \" + name.title() + \", I heard your favorite number is \" + str(favorite_numbers[name]))\n",
    "if 'erin' not in favorite_numbers.keys():\n",
    "    print(\"Erin please take our poll!\")\n",
    "    "
   ]
  },
  {
   "cell_type": "code",
   "execution_count": 40,
   "metadata": {},
   "outputs": [
    {
     "name": "stdout",
     "output_type": "stream",
     "text": [
      "Chubaca\n",
      "Jen\n",
      "Ken\n",
      "Reggie\n",
      "Titus\n"
     ]
    }
   ],
   "source": [
    "# looping dictionaries in keys order using the \"sorted()\" function\n",
    "favorite_numbers = {\n",
    "    'jen': 5,\n",
    "    'ken': 6,\n",
    "    'chubaca': 7,\n",
    "    'titus': 4,\n",
    "    'reggie': 9,\n",
    "}\n",
    "for name in sorted(favorite_numbers.keys()):\n",
    "    print(name.title())"
   ]
  },
  {
   "cell_type": "code",
   "execution_count": 42,
   "metadata": {},
   "outputs": [
    {
     "name": "stdout",
     "output_type": "stream",
     "text": [
      "5\n",
      "6\n",
      "7\n",
      "4\n",
      "9\n"
     ]
    }
   ],
   "source": [
    "# using the \".values()\" method to loop through all the values in a dictionary\n",
    "favorite_numbers = {\n",
    "    'jen': 5,\n",
    "    'ken': 6,\n",
    "    'chubaca': 7,\n",
    "    'titus': 6\n",
    "    'reggie': 9,\n",
    "}\n",
    "for number in favorite_numbers.values():\n",
    "    print(str(number))"
   ]
  },
  {
   "cell_type": "code",
   "execution_count": 52,
   "metadata": {},
   "outputs": [
    {
     "name": "stdout",
     "output_type": "stream",
     "text": [
      "4\n",
      "5\n",
      "6\n",
      "7\n"
     ]
    }
   ],
   "source": [
    "# use a \"set()\" to avoid repititive values. a set is similar to a list except each item is unique\n",
    "favorite_numbers = {\n",
    "    'jen': 5,\n",
    "    'ken': 6,\n",
    "    'chubaca': 7,\n",
    "    'titus': 4,\n",
    "    'reggie': 6,\n",
    "}\n",
    "for number in set(favorite_numbers.values()):\n",
    "    print(str(number))"
   ]
  },
  {
   "cell_type": "code",
   "execution_count": 54,
   "metadata": {},
   "outputs": [
    {
     "name": "stdout",
     "output_type": "stream",
     "text": [
      "{'color': 'red', 'points': 5}\n",
      "{'color': 'yellow', 'points': 10}\n",
      "{'color': 'blue', 'points': 15}\n"
     ]
    }
   ],
   "source": [
    "# Nesting is the concepts of building several dictionaries into a list or storing a list of items in a dictionary\n",
    "alien_0 = {'color': 'red', 'points': 5}\n",
    "alien_1 = {'color': 'yellow', 'points': 10}\n",
    "alien_2 = {'color': 'blue', 'points': 15}\n",
    "\n",
    "aliens = [alien_0, alien_1, alien_2]\n",
    "for alien in aliens:\n",
    "    print(alien)"
   ]
  },
  {
   "cell_type": "code",
   "execution_count": 59,
   "metadata": {},
   "outputs": [
    {
     "name": "stdout",
     "output_type": "stream",
     "text": [
      "{'color': 'red', 'speed': 'slow', 'points': 5}\n",
      "{'color': 'red', 'speed': 'slow', 'points': 5}\n",
      "{'color': 'red', 'speed': 'slow', 'points': 5}\n",
      "{'color': 'red', 'speed': 'slow', 'points': 5}\n",
      "{'color': 'red', 'speed': 'slow', 'points': 5}\n",
      "Total number of aliens: 30\n"
     ]
    }
   ],
   "source": [
    "# using a range to create a fleet of aliens\n",
    "# to make this make sense. we used the \"for loop\" to define the range using a variable \"alien_number\". Then we created\n",
    "# an alien dictionary, \"new_alien\" under that \"for loop\" and appended it to our empty \"alien\" list under the same \"for loop\"\n",
    "aliens = []\n",
    "for alien_number in range(30):\n",
    "    new_alien = {'color':'red', 'speed': 'slow', 'points': 5}\n",
    "    aliens.append(new_alien)\n",
    "\n",
    "for alien in aliens[:5]:\n",
    "    print(alien)\n",
    "print(\"Total number of aliens: \" + str(len(aliens)) )"
   ]
  },
  {
   "cell_type": "code",
   "execution_count": 65,
   "metadata": {},
   "outputs": [
    {
     "name": "stdout",
     "output_type": "stream",
     "text": [
      "{'color': 'yellow', 'speed': 'medium', 'points': 10}\n",
      "{'color': 'yellow', 'speed': 'medium', 'points': 10}\n",
      "{'color': 'yellow', 'speed': 'medium', 'points': 10}\n",
      "{'color': 'red', 'speed': 'slow', 'points': 5}\n",
      "{'color': 'red', 'speed': 'slow', 'points': 5}\n"
     ]
    }
   ],
   "source": [
    "# making changes to specific dictionaries\n",
    "aliens = []\n",
    "for alien_number in range(30):\n",
    "    new_alien = {'color':'red', 'speed': 'slow', 'points': 5}\n",
    "    aliens.append(new_alien)\n",
    "    \n",
    "for alien in aliens[:3]:\n",
    "    if alien['color']  == 'red':\n",
    "        alien['speed'] = 'medium'\n",
    "        alien['color'] = 'yellow'\n",
    "        alien['points'] = 10\n",
    "    \n",
    "for alien in aliens[:5]:\n",
    "        print(alien)\n"
   ]
  },
  {
   "cell_type": "code",
   "execution_count": 71,
   "metadata": {},
   "outputs": [
    {
     "name": "stdout",
     "output_type": "stream",
     "text": [
      "{'colorway': 'green', 'lace': 'white', 'size': 'medium'}\n",
      "{'colorway': 'green', 'lace': 'white', 'size': 'medium'}\n",
      "{'colorway': 'green', 'lace': 'white', 'size': 'medium'}\n",
      "{'colorway': 'yellow', 'lace': 'white', 'size': 'medium'}\n",
      "{'colorway': 'yellow', 'lace': 'white', 'size': 'medium'}\n"
     ]
    }
   ],
   "source": [
    "# practice on making changes to dictionaries\n",
    "shoe = []\n",
    "for shoe_number in range(30):\n",
    "    new_shoe = {'colorway':'yellow', 'lace': 'white', 'size': 'medium'}\n",
    "    shoe.append(new_shoe)\n",
    "    \n",
    "for one in shoe[:3]:\n",
    "    if one['colorway'] == 'yellow':\n",
    "        one['colorway'] = 'green'\n",
    "for one in shoe[:5]:\n",
    "    print(one)"
   ]
  },
  {
   "cell_type": "code",
   "execution_count": 80,
   "metadata": {},
   "outputs": [
    {
     "name": "stdout",
     "output_type": "stream",
     "text": [
      " You ordered a thin-crust pizza with the following toppings: \t\n",
      "\textra cheese\n",
      "\tpepperoni\n",
      "\tsausage\n"
     ]
    }
   ],
   "source": [
    "# nesting a list in a dictionary\n",
    "# pizza order example\n",
    "pizza_order = {'crust': 'thin', 'toppings': ['extra cheese', 'pepperoni', 'sausage']}\n",
    "print(\" You ordered a \" + pizza_order['crust'] + \"-crust pizza with the following toppings: \\t\")\n",
    "for topping in pizza_order['toppings']:\n",
    "    print(\"\\t\" + topping)"
   ]
  },
  {
   "cell_type": "code",
   "execution_count": 96,
   "metadata": {},
   "outputs": [
    {
     "name": "stdout",
     "output_type": "stream",
     "text": [
      "\n",
      "Jen's favorite programming languages are: \n",
      "\tpython\n",
      "\tc\n",
      "\n",
      "Ken's favorite programming languages are: \n",
      "\truby\n",
      "\tjava\n",
      "\tkotlin\n",
      "\n",
      "Mike's favorite programming languages are: \n",
      "\tcss\n",
      "\tflutter\n",
      "\n",
      "Gabe's favorite programming language is: \n",
      "\tgo\n"
     ]
    }
   ],
   "source": [
    "# practice on storing lists as values in a dictionary\n",
    "\n",
    "\n",
    "favorite_languages = {\n",
    "    'jen': ['python', 'c'],\n",
    "    'ken': ['ruby', 'java', 'kotlin'],\n",
    "    'mike': ['css', 'flutter'],\n",
    "    'gabe': ['go'],\n",
    "}\n",
    "for name, languages in favorite_languages.items():\n",
    "    if len(languages) == 1:\n",
    "        print(\"\\n\" + name.title() + \"'s favorite programming language is: \")\n",
    "    else:\n",
    "        print(\"\\n\" + name.title() + \"'s favorite programming languages are: \")\n",
    "    for language in languages:\n",
    "        print(\"\\t\" + language)\n",
    "# avoid nesting too many lists in your dictionary else it gets complicated and confusing"
   ]
  },
  {
   "cell_type": "code",
   "execution_count": 115,
   "metadata": {},
   "outputs": [
    {
     "name": "stdout",
     "output_type": "stream",
     "text": [
      "Username: chukach\n",
      "Full Name: Chuka Ufomadu\n",
      "Location: Dongducheon\n",
      "\n",
      "Username: taster\n",
      "Full Name: Gibson Nathaniel\n",
      "Location: Ontario\n",
      "\n"
     ]
    }
   ],
   "source": [
    "# nesting dictionaries in dictionaries\n",
    "# remember to seperate each nested dictionary with a comma\n",
    "users = {\n",
    "    'chukach': {\n",
    "        'first': 'chuka',\n",
    "        'last': 'ufomadu',\n",
    "        'location': 'dongducheon',\n",
    "},\n",
    "    'taster': {\n",
    "        'first': 'gibson',\n",
    "        'last': 'nathaniel',\n",
    "        'location': 'ontario'\n",
    "    }\n",
    "}\n",
    "for username, userinfo in users.items():\n",
    "    print(\"Username: \" + username)\n",
    "    full_name = userinfo['first'] + \" \" + userinfo['last']\n",
    "    location = userinfo['location']\n",
    "    print(\"Full Name: \" + full_name.title())\n",
    "    print(\"Location:\" + \" \" + location.title() + \"\\n\")"
   ]
  },
  {
   "cell_type": "code",
   "execution_count": 117,
   "metadata": {},
   "outputs": [
    {
     "name": "stdout",
     "output_type": "stream",
     "text": [
      "{'first': 'chimdi', 'last': 'ufomadu', 'age': 25, 'city': 'aba'}\n",
      "{'first': 'chibueze', 'last': 'ufomadu', 'age': 21, 'city': 'abu dhabi'}\n",
      "{'first': 'jerry', 'last': 'ufomadu', 'age': 24, 'city': 'port'}\n"
     ]
    }
   ],
   "source": [
    "# practice from textbook\n",
    "dinho = {'first': 'chimdi', 'last': 'ufomadu', 'age': 25, 'city': 'aba'}\n",
    "chibuf = {'first': 'chibueze', 'last': 'ufomadu', 'age': 21, 'city': 'abu dhabi'}\n",
    "jeto = {'first': 'jerry', 'last': 'ufomadu', 'age': 24, 'city': 'port'}\n",
    "\n",
    "brothers = [dinho, chibuf, jeto]\n",
    "\n",
    "for brother in brothers:\n",
    "    print(brother)"
   ]
  },
  {
   "cell_type": "code",
   "execution_count": 119,
   "metadata": {},
   "outputs": [
    {
     "name": "stdout",
     "output_type": "stream",
     "text": [
      "{'kind': 'dog', 'owner': 'kingsley'}\n",
      "{'kind': 'dog', 'owner': 'brady'}\n",
      "{'kind': 'cat', 'owner': 'vandy'}\n",
      "{'kind': 'cat', 'owner': 'jase'}\n",
      "{'kind': 'parrot', 'owner': 'faith'}\n"
     ]
    }
   ],
   "source": [
    "# more practice from textbook\n",
    "beanie = {'kind': 'dog', 'owner': 'kingsley'}\n",
    "bingo = {'kind': 'dog', 'owner': 'brady'}\n",
    "jasper = {'kind': 'cat', 'owner': 'vandy'}\n",
    "jerry = {'kind': 'cat', 'owner': 'jase'}\n",
    "tommy = {'kind': 'parrot', 'owner': 'faith'}\\\n",
    "\n",
    "pets = [beanie, bingo, jasper, jerry, tommy]\n",
    "\n",
    "for pet in pets:\n",
    "    print(pet)"
   ]
  },
  {
   "cell_type": "code",
   "execution_count": 121,
   "metadata": {},
   "outputs": [
    {
     "name": "stdout",
     "output_type": "stream",
     "text": [
      " I just found out that Ben's favorite place is Barcelona\n",
      " I just found out that Dave's favorite place is Beijing\n",
      " I just found out that Ravon's favorite place is Switzerland\n"
     ]
    }
   ],
   "source": [
    "# practice makes perfect\n",
    "favorite_places = {'ben': 'barcelona', 'dave': 'beijing', 'ravon': 'switzerland'}\n",
    "\n",
    "for name, place in favorite_places.items():\n",
    "    print(\" I just found out that \" + name.title() + \"'s favorite place is \" + place.title())"
   ]
  },
  {
   "cell_type": "code",
   "execution_count": 162,
   "metadata": {},
   "outputs": [
    {
     "name": "stdout",
     "output_type": "stream",
     "text": [
      "I just found out Sophia's favorite numbers are: \n",
      "\t5\n",
      "\t7\n",
      "\t9\n",
      "I just found out Frances's favorite number is:\n",
      "I just found out Davida's favorite numbers are: \n",
      "\t6\n",
      "\t5\n",
      "\t4\n",
      "I just found out Gabrielle's favorite numbers are: \n",
      "\t1\n",
      "\t2\n",
      "\t8\n"
     ]
    }
   ],
   "source": [
    "# practice??\n",
    "# I am trying to print the correct statement that applies to a name that has only one favorite number using an if statement\n",
    "# shit is not working the way I want it to so we'll hold that thought\n",
    "favorite_numbers = {\n",
    "    'sophia': [5, 7, 9],\n",
    "    'frances': [10],\n",
    "    'davida': [6, 5, 4],\n",
    "    'gabrielle': [1, 2, 8],\n",
    "}\n",
    "for name, numbers in favorite_numbers.items():\n",
    "    if len(numbers) == 1:\n",
    "        print(\"I just found out \" + name.title() + \"'s favorite number is:\")\n",
    "    else:\n",
    "        print(\"I just found out \" + name.title() + \"'s favorite numbers are: \")\n",
    "        for number in numbers:\n",
    "            print(\"\\t\" + str(number))"
   ]
  },
  {
   "cell_type": "code",
   "execution_count": 170,
   "metadata": {},
   "outputs": [
    {
     "name": "stdout",
     "output_type": "stream",
     "text": [
      "city: armsterdam\n",
      "country: Netherlands\n",
      "population: 50 million\n",
      "fact: famous for lots of weed\n",
      "\n",
      "city: barcelona\n",
      "country: spain\n",
      "population: 100 million\n",
      "fact: famous for soccer team, barca\n",
      "\n",
      "city: lagos\n",
      "country: nigeria\n",
      "population: 200 million\n",
      "fact: budding metropolitan\n",
      "\n"
     ]
    }
   ],
   "source": [
    "# another practice execise from textbook..hopefully this one does right\n",
    "cities = {\n",
    "    'armsterdam':{\n",
    "        'country': 'Netherlands',\n",
    "        'population': '50 million',\n",
    "        'fact': 'famous for lots of weed',\n",
    "    },\n",
    "    'barcelona': {\n",
    "        'country': 'spain',\n",
    "        'population': '100 million',\n",
    "        'fact': 'famous for soccer team, barca',\n",
    "    },\n",
    "    'lagos': {\n",
    "        'country': 'nigeria',\n",
    "        'population': '200 million',\n",
    "        'fact': 'budding metropolitan',\n",
    "    },\n",
    "}\n",
    "for city, city_info in cities.items():\n",
    "    print(\"city: \" + city)\n",
    "    citycountry = city_info['country']\n",
    "    citypop = city_info['population']\n",
    "    cityfact = city_info['fact']\n",
    "    print(\"country: \" + citycountry + \"\\npopulation: \" + citypop + \"\\nfact: \" + cityfact + \"\\n\")\n",
    "    "
   ]
  },
  {
   "cell_type": "code",
   "execution_count": null,
   "metadata": {},
   "outputs": [],
   "source": []
  }
 ],
 "metadata": {
  "kernelspec": {
   "display_name": "Python 3",
   "language": "python",
   "name": "python3"
  },
  "language_info": {
   "codemirror_mode": {
    "name": "ipython",
    "version": 3
   },
   "file_extension": ".py",
   "mimetype": "text/x-python",
   "name": "python",
   "nbconvert_exporter": "python",
   "pygments_lexer": "ipython3",
   "version": "3.8.6"
  }
 },
 "nbformat": 4,
 "nbformat_minor": 4
}
