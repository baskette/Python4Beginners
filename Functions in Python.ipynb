{
 "cells": [
  {
   "cell_type": "code",
   "execution_count": 1,
   "metadata": {},
   "outputs": [
    {
     "name": "stdout",
     "output_type": "stream",
     "text": [
      "Hello, Jesse!\n"
     ]
    }
   ],
   "source": [
    "# functions are named blocks of code designed to do specific jobs\n",
    "# here's a simple function for greeting the user\n",
    "# \"def\" is used to define the name of the funtion\n",
    "# a docstring describes what the funtion does and is enclosed in a tripe quote\n",
    "def greet_user(username):\n",
    "    \"\"\"Display a simple greeting.\"\"\"\n",
    "    print(\"Hello, \" + username.title() + \"!\")\n",
    "    \n",
    "greet_user('jesse')\n",
    "# the 'argument' 'jesse' was passed to the function 'greet_user()', and value was stored in the 'parameter' 'username'"
   ]
  },
  {
   "cell_type": "code",
   "execution_count": 9,
   "metadata": {},
   "outputs": [
    {
     "name": "stdout",
     "output_type": "stream",
     "text": [
      "This chapter is about Functions anfd how to use them.\n"
     ]
    }
   ],
   "source": [
    "# simple function examples\n",
    "def display_message():\n",
    "    \"\"\"Display message about chapter 8 of python crash course\"\"\"\n",
    "    print(\"This chapter is about Functions anfd how to use them.\")\n",
    "    \n",
    "display_message()"
   ]
  },
  {
   "cell_type": "code",
   "execution_count": 11,
   "metadata": {},
   "outputs": [
    {
     "name": "stdout",
     "output_type": "stream",
     "text": [
      " One of my favorite books is Alice In Wonderland!\n"
     ]
    }
   ],
   "source": [
    "# simple function example\n",
    "def favorite_book(title):\n",
    "    \"\"\"display favorite book\"\"\"\n",
    "    print(\" One of my favorite books is \" + title.title() + \"!\")\n",
    "    \n",
    "favorite_book('alice in wonderland')"
   ]
  },
  {
   "cell_type": "code",
   "execution_count": 17,
   "metadata": {},
   "outputs": [
    {
     "name": "stdout",
     "output_type": "stream",
     "text": [
      "\n",
      "I have a dog.\n",
      "My dog's name is Bingo.\n",
      "\n",
      "I have a okapi.\n",
      "My okapi's name is Disney.\n"
     ]
    }
   ],
   "source": [
    "# using positional arguments\n",
    "def describe_pet(animal_type, pet_name):\n",
    "    \"\"\"Display information about a pet\"\"\"\n",
    "    print(\"\\nI have a \" + animal_type + \".\")\n",
    "    print(\"My \" + animal_type + \"'s name is \" + pet_name.title() + \".\")\n",
    "    \n",
    "describe_pet('dog', 'bingo')\n",
    "describe_pet('okapi', 'disney')"
   ]
  },
  {
   "cell_type": "code",
   "execution_count": 19,
   "metadata": {},
   "outputs": [
    {
     "name": "stdout",
     "output_type": "stream",
     "text": [
      "\n",
      "I have a rhino.\n",
      "My rhino's name is Ediphus.\n"
     ]
    }
   ],
   "source": [
    "# using keyword arguments which are name-value pairs that you pass to a function\n",
    "def describe_pet(animal_type, pet_name):\n",
    "    \"\"\"Display information about a pet\"\"\"\n",
    "    print(\"\\nI have a \" + animal_type + \".\")\n",
    "    print(\"My \" + animal_type + \"'s name is \" + pet_name.title() + \".\")\n",
    "    \n",
    "describe_pet(animal_type = 'rhino', pet_name = 'ediphus')"
   ]
  },
  {
   "cell_type": "code",
   "execution_count": 2,
   "metadata": {},
   "outputs": [
    {
     "name": "stdout",
     "output_type": "stream",
     "text": [
      "santosdog.\n",
      "My dog's name is Santos.\n"
     ]
    }
   ],
   "source": [
    "# default values\n",
    "# when using default values, any parameter with a defqault value should be listed after the parameters without\n",
    "def describe_pet(pet_name, animal_type = 'dog'):\n",
    "    \"\"\"Display information about a pet\"\"\"\n",
    "    print(pet_name + animal_type + \".\")\n",
    "    print(\"My \" + animal_type + \"'s name is \" + pet_name.title() + \".\")\n",
    "\n",
    "describe_pet('santos')"
   ]
  },
  {
   "cell_type": "code",
   "execution_count": 3,
   "metadata": {},
   "outputs": [
    {
     "name": "stdout",
     "output_type": "stream",
     "text": [
      "Jimi Hendrix\n"
     ]
    }
   ],
   "source": [
    "# return value example\n",
    "def get_formatted_name(first_name, last_name):\n",
    "    \"\"\"Return a full name, neatly formatted.\"\"\"\n",
    "    full_name = first_name + ' ' + last_name\n",
    "    return full_name.title()\n",
    "\n",
    "musician = get_formatted_name('jimi', 'hendrix')\n",
    "print(musician)"
   ]
  },
  {
   "cell_type": "code",
   "execution_count": 6,
   "metadata": {},
   "outputs": [
    {
     "name": "stdout",
     "output_type": "stream",
     "text": [
      "Colton Elkins Papageogio\n"
     ]
    }
   ],
   "source": [
    "# making an argument optional\n",
    "def people_names(first_name, last_name, middle_name = ''):\n",
    "    \"\"\"Making Middle name optional\"\"\"\n",
    "    if middle_name:\n",
    "        full_name = first_name + ' ' + last_name + ' ' + middle_name\n",
    "    else:\n",
    "        full_name = first_name + ' ' + last_name\n",
    "    return full_name.title()\n",
    "player = people_names('colton', 'elkins', 'papageogio')\n",
    "print(player)"
   ]
  },
  {
   "cell_type": "code",
   "execution_count": 8,
   "metadata": {},
   "outputs": [
    {
     "name": "stdout",
     "output_type": "stream",
     "text": [
      "{'first': 'steve', 'last': 'austin'}\n"
     ]
    }
   ],
   "source": [
    "#returning a dictionary just because a function can\n",
    "def build_person(first_name, last_name):\n",
    "    \"\"\"Return a dictionary of information about a person\"\"\"\n",
    "    person = {'first': first_name, 'last': last_name}\n",
    "    return person\n",
    "musician   = build_person('steve', 'austin')\n",
    "\n",
    "print(musician)"
   ]
  },
  {
   "cell_type": "code",
   "execution_count": null,
   "metadata": {},
   "outputs": [
    {
     "name": "stdout",
     "output_type": "stream",
     "text": [
      "\n",
      "Please tell me your name \n",
      "\n",
      "Enter 'q' at anytime to quit\n"
     ]
    }
   ],
   "source": [
    "#using a function with a while loop\n",
    "def get_formatted_name(first_name, last_name):\n",
    "    \"\"\"Return a full name, neatly formatted.\"\"\"\n",
    "    full_name = first_name + ' ' + last_name\n",
    "    return full_name.title()\n",
    "\n",
    "#loop\n",
    "while True:\n",
    "    print(\"\\nPlease tell me your name \")\n",
    "    print(\"\\nEnter 'q' at anytime to quit\")\n",
    "    \n",
    "    f_name = input(\"First name: \")\n",
    "    if f_name == 'q':\n",
    "        break\n",
    "        \n",
    "    l_name = input(\"Last name: \")\n",
    "    if l_name == 'q':\n",
    "        break\n",
    "    \n",
    "    formatted_name = get_formatted_name(f_name, l_name)\n",
    "    print(\"\\nHello, \" + formatted_name + \"!\")\n",
    "    "
   ]
  },
  {
   "cell_type": "code",
   "execution_count": null,
   "metadata": {},
   "outputs": [],
   "source": [
    "#practice using while loop with functions\n",
    "def people_name(first_name, last_name):\n",
    "    \"\"\"ask people their names\"\"\"\n",
    "    full_name = first_name + ' ' + last_name\n",
    "    return full_name\n",
    "\n",
    "while True:\n",
    "    print(\"\\nPlease tell me you name \")\n",
    "    print(\"Enter 'q' when done\")\n",
    "    \n",
    "    f_name = input(\"First name: \")\n",
    "    if f_name == 'q':\n",
    "        break\n",
    "    \n",
    "    l_name = input(\"Last name: \")\n",
    "    if l_name == 'q':\n",
    "        break\n",
    "        \n",
    "    people = people_name(f_name, l_name)\n",
    "    print(\"Hello \" + people)"
   ]
  },
  {
   "cell_type": "code",
   "execution_count": 2,
   "metadata": {},
   "outputs": [
    {
     "name": "stdout",
     "output_type": "stream",
     "text": [
      "Hello Hannah! Welcome\n",
      "Hello Aaron! Welcome\n",
      "Hello John! Welcome\n"
     ]
    }
   ],
   "source": [
    "# passing a list through a function\n",
    "def greet_users(names):\n",
    "    \"\"\"send a greeting to each person in a list\"\"\"\n",
    "    for name in names:\n",
    "        print(\"Hello \" + name.title() + \"! Welcome\")\n",
    "        \n",
    "        \n",
    "username = ['hannah', 'aaron', 'john']\n",
    "\n",
    "greet_users(username)"
   ]
  },
  {
   "cell_type": "code",
   "execution_count": 4,
   "metadata": {},
   "outputs": [
    {
     "name": "stdout",
     "output_type": "stream",
     "text": [
      "Printing model: dodecahedron\n",
      "Printing model: robot pendant\n",
      "Printing model: iphone case\n",
      "\n",
      "The following models have been printed:\n",
      "dodecahedron\n",
      "robot pendant\n",
      "iphone case\n"
     ]
    }
   ],
   "source": [
    "# modifying a list in a function\n",
    "# The following code modifies a list without using a function\n",
    "# doing this to comopare and contrast\n",
    "\n",
    "# start with some designs that need to be printed\n",
    "unprinted_designs = ['iphone case', 'robot pendant', 'dodecahedron']\n",
    "completed_models = []\n",
    "\n",
    "# simulate printing each design, until none are left\n",
    "# move each design to completed_models after printing\n",
    "\n",
    "while unprinted_designs:\n",
    "    current_design = unprinted_designs.pop()\n",
    "# simulate creating a 3D print from the design\n",
    "    print(\"Printing model: \" + current_design)\n",
    "    completed_models.append(current_design)\n",
    "\n",
    "# Display all completed models\n",
    "print(\"\\nThe following models have been printed:\")\n",
    "for completed_model in completed_models:\n",
    "    print(completed_model)"
   ]
  },
  {
   "cell_type": "code",
   "execution_count": 6,
   "metadata": {},
   "outputs": [
    {
     "name": "stdout",
     "output_type": "stream",
     "text": [
      "Printing model: dodecahedron\n",
      "Printing model: robot pendant\n",
      "Printing model: iphone case\n",
      "\n",
      "The following models have been printed:\n",
      "dodecahedron\n",
      "robot pendant\n",
      "iphone case\n"
     ]
    }
   ],
   "source": [
    "# now using functions we can make the block of code above more efficient\n",
    "def print_models(unprinted_designs, completed_models):\n",
    "    \"\"\"\n",
    "    Simulate printing each design, until none are left.\n",
    "    Move each design to completed_models after printing.\n",
    "    \"\"\"\n",
    "    \n",
    "    while unprinted_designs:\n",
    "        current_design = unprinted_designs.pop()\n",
    "        \n",
    "        # simulate creating a 3D print from the design\n",
    "        print(\"Printing model: \" + current_design)\n",
    "        completed_models.append(current_design)\n",
    "        \n",
    "def show_completed_models(completed_models):\n",
    "    \"\"\"Show all the models that were printed\"\"\"\n",
    "    print(\"\\nThe following models have been printed:\")\n",
    "    for completed_model in completed_models:\n",
    "        print(completed_model)\n",
    "\n",
    "unprinted_designs = ['iphone case', 'robot pendant', 'dodecahedron']\n",
    "completed_models = []\n",
    "\n",
    "print_models(unprinted_designs, completed_models)\n",
    "show_completed_models(completed_models)"
   ]
  },
  {
   "cell_type": "code",
   "execution_count": 7,
   "metadata": {},
   "outputs": [],
   "source": [
    "# so what if you dont want the function to modify the list\n",
    "# lets say you want to keep that original list of unprinted models in the example above\n",
    "# you send a copy of the list to the function, that way you keep the original\n",
    "# using the slice notation you can make a copy of the original list like so:\n",
    "# function_name(list_name[:])\n",
    "\n",
    "print_models(unprinted_designs[:], completed_models)\n",
    "\n",
    "# make copies if you absolutely have to for a good reason"
   ]
  },
  {
   "cell_type": "code",
   "execution_count": 8,
   "metadata": {},
   "outputs": [
    {
     "name": "stdout",
     "output_type": "stream",
     "text": [
      "('pepperoni',)\n",
      "('mushrooms', 'green peppers', 'extra cheese')\n"
     ]
    }
   ],
   "source": [
    "# passing an arbitrary number of arguments\n",
    "# useful when the number of arguments a function can hold is not known\n",
    "def make_pizza(*toppings):\n",
    "    \"\"\"Print the list of toppings that have been requested\"\"\"\n",
    "    print(toppings)\n",
    "    \n",
    "make_pizza('pepperoni')\n",
    "make_pizza('mushrooms', 'green peppers', 'extra cheese')"
   ]
  },
  {
   "cell_type": "code",
   "execution_count": 9,
   "metadata": {},
   "outputs": [
    {
     "name": "stdout",
     "output_type": "stream",
     "text": [
      "\n",
      "Making a pizza with the following toppings:\n",
      "- pepperoni\n",
      "\n",
      "Making a pizza with the following toppings:\n",
      "- mushrooms\n",
      "- green peppers\n",
      "- extra cheese\n"
     ]
    }
   ],
   "source": [
    "# using the * tells python to make an empty tuple and pack whatever value is given to the argument in there\n",
    "def make_pizza(*toppings):\n",
    "    \"\"\"Sumarize the pizza we are about to make.\"\"\"\n",
    "    print(\"\\nMaking a pizza with the following toppings:\")\n",
    "    for topping in toppings:\n",
    "        print(\"- \" + topping)\n",
    "        \n",
    "make_pizza('pepperoni')\n",
    "make_pizza('mushrooms', 'green peppers', 'extra cheese')"
   ]
  },
  {
   "cell_type": "code",
   "execution_count": 12,
   "metadata": {},
   "outputs": [
    {
     "name": "stdout",
     "output_type": "stream",
     "text": [
      "\n",
      "Making a 16-inch pizza with the following toppings:\n",
      "- pepperoni\n",
      "\n",
      "Making a 12-inch pizza with the following toppings:\n",
      "- mushrooms\n",
      "- green peppers\n",
      "- extra cheese\n"
     ]
    }
   ],
   "source": [
    "# mixing positional and arbitrary arguments\n",
    "# if you are passing arguments that are a mixture of positional, keyword and arbitrary, arbitrary comes last\n",
    "import first_module\n",
    "        \n",
    "make_pizza(16, 'pepperoni')\n",
    "make_pizza(12, 'mushrooms', 'green peppers', 'extra cheese')"
   ]
  },
  {
   "cell_type": "code",
   "execution_count": 14,
   "metadata": {},
   "outputs": [
    {
     "name": "stdout",
     "output_type": "stream",
     "text": [
      "\n",
      "Making a 13-inch pizza with the following toppings:\n",
      "- suasage\n"
     ]
    }
   ],
   "source": [
    "# modules are used for storing functions so your can declutter your code\n",
    "# to create a module, go to the same directory and create a new file\n",
    "# name the file and download as .py\n",
    "# delete the original file that was created in the .ipynb file format\n",
    "# now upload unto to the same directory as your other files\n",
    "import first_module\n",
    "\n",
    "make_pizza(13, 'suasage')"
   ]
  },
  {
   "cell_type": "code",
   "execution_count": 15,
   "metadata": {},
   "outputs": [],
   "source": [
    "# to import a specific function from a module, use format below:\n",
    "# from module_name import function_name\n",
    "# you can import multiple functions by seperating function names with a comma\n",
    "# if you imported a whole module, to call a specific function, use format below:\n",
    "# module_name.function_name()"
   ]
  },
  {
   "cell_type": "code",
   "execution_count": null,
   "metadata": {},
   "outputs": [],
   "source": [
    "# you can give an alias to a function you are importing if you think the name of function will conflict with your code\n",
    "# to give alias use \"as\". for example:\n",
    "from pizza import make_pizza as mp\n",
    "# you can import all the function in a module by using an *\n",
    "# for example\n",
    "from pizza import *\n",
    "# when all functions are imported in this way, you can call specific functions using the \"dot\" notation discussed above"
   ]
  }
 ],
 "metadata": {
  "kernelspec": {
   "display_name": "Python 3",
   "language": "python",
   "name": "python3"
  },
  "language_info": {
   "codemirror_mode": {
    "name": "ipython",
    "version": 3
   },
   "file_extension": ".py",
   "mimetype": "text/x-python",
   "name": "python",
   "nbconvert_exporter": "python",
   "pygments_lexer": "ipython3",
   "version": "3.8.6"
  }
 },
 "nbformat": 4,
 "nbformat_minor": 4
}
