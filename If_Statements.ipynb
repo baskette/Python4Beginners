{
 "cells": [
  {
   "cell_type": "code",
   "execution_count": null,
   "metadata": {},
   "outputs": [],
   "source": [
    "cars = ['bmw', 'mercedes', 'mclaren', 'lamborghini']\n",
    "for car in cars:\n",
    "    if car == 'bmw':\n",
    "        print(car.upper())\n",
    "    else:\n",
    "        print(car.title())\n",
    "\n"
   ]
  },
  {
   "cell_type": "code",
   "execution_count": 2,
   "metadata": {},
   "outputs": [
    {
     "data": {
      "text/plain": [
       "False"
      ]
     },
     "execution_count": 2,
     "metadata": {},
     "output_type": "execute_result"
    }
   ],
   "source": [
    "car = 'bmw'\n",
    "car == 'bmw'\n",
    "\n",
    "car == 'audi'"
   ]
  },
  {
   "cell_type": "code",
   "execution_count": 3,
   "metadata": {},
   "outputs": [
    {
     "name": "stdout",
     "output_type": "stream",
     "text": [
      "Please hold the shrooms.\n"
     ]
    }
   ],
   "source": [
    "requested_topping  = 'cheese'\n",
    "if requested_topping != 'mushrooms':\n",
    "    print(\"Please hold the shrooms.\")"
   ]
  },
  {
   "cell_type": "code",
   "execution_count": 4,
   "metadata": {},
   "outputs": [
    {
     "name": "stdout",
     "output_type": "stream",
     "text": [
      "Sorry you lose!\n"
     ]
    }
   ],
   "source": [
    "#using 'if' and 'else' statments\n",
    "jackpot = 8\n",
    "if jackpot != 7:\n",
    "    print(\"Sorry you lose!\")"
   ]
  },
  {
   "cell_type": "code",
   "execution_count": 5,
   "metadata": {},
   "outputs": [
    {
     "name": "stdout",
     "output_type": "stream",
     "text": [
      "gaaa dammn\n"
     ]
    }
   ],
   "source": [
    "#using 'if' and 'else' statements\n",
    "angela_age = 23\n",
    "yee_age = 18\n",
    "if angela_age and yee_age >= 21:\n",
    "    print(\"you are good to go.\")\n",
    "else:\n",
    "    print(\"gaaa dammn\")"
   ]
  },
  {
   "cell_type": "code",
   "execution_count": 13,
   "metadata": {},
   "outputs": [
    {
     "data": {
      "text/plain": [
       "False"
      ]
     },
     "execution_count": 13,
     "metadata": {},
     "output_type": "execute_result"
    }
   ],
   "source": [
    "#using keyword 'and' to check for multiple conditions\n",
    "my_age = 18\n",
    "your_age = 22\n",
    "my_age >= 21 and your_age >= 21"
   ]
  },
  {
   "cell_type": "code",
   "execution_count": 12,
   "metadata": {},
   "outputs": [
    {
     "data": {
      "text/plain": [
       "False"
      ]
     },
     "execution_count": 12,
     "metadata": {},
     "output_type": "execute_result"
    }
   ],
   "source": [
    "#using 'and' to check multiple conditions\n",
    "my_manz = 16\n",
    "big_manz = 21\n",
    "my_manz >= 21 and big_manz >= 21"
   ]
  },
  {
   "cell_type": "code",
   "execution_count": 15,
   "metadata": {},
   "outputs": [
    {
     "data": {
      "text/plain": [
       "False"
      ]
     },
     "execution_count": 15,
     "metadata": {},
     "output_type": "execute_result"
    }
   ],
   "source": [
    "# using 'or' to check multiple conditions\n",
    "vero_age = 24\n",
    "biga_age = 22\n",
    "vero_age >= 25 or biga_age >= 25"
   ]
  },
  {
   "cell_type": "code",
   "execution_count": 18,
   "metadata": {},
   "outputs": [
    {
     "data": {
      "text/plain": [
       "False"
      ]
     },
     "execution_count": 18,
     "metadata": {},
     "output_type": "execute_result"
    }
   ],
   "source": [
    "girl_names = ['cassandra', 'bella', 'monica', 'jessie']\n",
    "'brittany' in girl_names"
   ]
  },
  {
   "cell_type": "code",
   "execution_count": 2,
   "metadata": {},
   "outputs": [
    {
     "name": "stdout",
     "output_type": "stream",
     "text": [
      "wrong group\n"
     ]
    }
   ],
   "source": [
    "# more if statements\n",
    "age = 37\n",
    "if age != 27:\n",
    "    print(\"wrong group\")\n",
    "else:\n",
    "    print(\"welcome to the gang\")"
   ]
  },
  {
   "cell_type": "code",
   "execution_count": 3,
   "metadata": {},
   "outputs": [
    {
     "name": "stdout",
     "output_type": "stream",
     "text": [
      "your admission fee is $4\n"
     ]
    }
   ],
   "source": [
    "#using the if-elif-else syntax\n",
    "age = 12\n",
    "if age < 4:\n",
    "    print(\"your admission is free\")\n",
    "elif age < 15:\n",
    "    print(\"your admission fee is $4\")\n",
    "else:\n",
    "    print(\"your admission fee is $10\")"
   ]
  },
  {
   "cell_type": "code",
   "execution_count": 6,
   "metadata": {},
   "outputs": [
    {
     "name": "stdout",
     "output_type": "stream",
     "text": [
      "Your admission fee is $5.\n"
     ]
    }
   ],
   "source": [
    "#instead of having a print statement after each condition use an if-elif-else chain with just one print statement like so:\n",
    "age = 14\n",
    "if age < 4:\n",
    "    price = 0\n",
    "elif age < 15:\n",
    "    price = 5\n",
    "else:\n",
    "    price = 10\n",
    "    \n",
    "print(\"Your admission fee is $\" + str(price) + \".\")"
   ]
  },
  {
   "cell_type": "code",
   "execution_count": 8,
   "metadata": {},
   "outputs": [
    {
     "name": "stdout",
     "output_type": "stream",
     "text": [
      "your admission fee is $5.\n"
     ]
    }
   ],
   "source": [
    "#you can use as many elif statements as your code requires\n",
    "age = 75\n",
    "if age < 4:\n",
    "    price = 0\n",
    "elif age < 18:\n",
    "    price = 5\n",
    "elif age < 65:\n",
    "    price = 10\n",
    "else:\n",
    "    price = 5\n",
    "    \n",
    "print(\"your admission fee is $\" + str(price) + \".\")"
   ]
  },
  {
   "cell_type": "code",
   "execution_count": 9,
   "metadata": {},
   "outputs": [
    {
     "name": "stdout",
     "output_type": "stream",
     "text": [
      "your admission fee is $0.\n"
     ]
    }
   ],
   "source": [
    "# you can omit the \"else\" statement as it is a catch all and may include malicious data, another specific \"else\" will do\n",
    "age = 4\n",
    "if age <= 4:\n",
    "    price = 0\n",
    "elif age < 18:\n",
    "    price = 5\n",
    "elif age < 65:\n",
    "    price = 10\n",
    "elif age >= 65:\n",
    "    price = 5\n",
    "\n",
    "print(\"your admission fee is $\" + str(price) + \".\")"
   ]
  },
  {
   "cell_type": "code",
   "execution_count": 10,
   "metadata": {},
   "outputs": [
    {
     "name": "stdout",
     "output_type": "stream",
     "text": [
      "adding bentley to your collection\n",
      "adding maserati to your collection\n",
      "\n",
      "Your collection is ready!\n"
     ]
    }
   ],
   "source": [
    "#use several \"if\" statements if multiple conditions could be true\n",
    "requested_cars = ['bentley', 'maserati', 'tesla']\n",
    "if 'bentley' in requested_cars:\n",
    "    print(\"adding bentley to your collection\")\n",
    "if 'maserati' in requested_cars:\n",
    "    print(\"adding maserati to your collection\")\n",
    "if 'mercedes' in requested_cars:\n",
    "    print(\"adding mercedes to your collection\")\n",
    "\n",
    "print(\"\\nYour collection is ready!\")"
   ]
  },
  {
   "cell_type": "code",
   "execution_count": 13,
   "metadata": {},
   "outputs": [],
   "source": [
    "#practice from textbook\n",
    "alien_color = ['green', 'yellow', 'red']\n",
    "if 'brown' in alien_color:\n",
    "    print(\" \")\n"
   ]
  },
  {
   "cell_type": "code",
   "execution_count": 15,
   "metadata": {},
   "outputs": [
    {
     "name": "stdout",
     "output_type": "stream",
     "text": [
      "You have earned 10 points\n"
     ]
    }
   ],
   "source": [
    "# more practice from the book\n",
    "alien_color = 'blue'\n",
    "if alien_color == 'green':\n",
    "    print(\"You have just earned 5 points.\")\n",
    "else:\n",
    "    print(\"You have earned 10 points\")"
   ]
  },
  {
   "cell_type": "code",
   "execution_count": 18,
   "metadata": {},
   "outputs": [
    {
     "name": "stdout",
     "output_type": "stream",
     "text": [
      "you have earned 15 points!\n"
     ]
    }
   ],
   "source": [
    "# more pracetice from textbook\n",
    "alien_color = 'green'\n",
    "if alien_color == 'blue':\n",
    "    points = 10\n",
    "elif alien_color == 'green':\n",
    "    points = 15\n",
    "elif alien_color == 'yellow':\n",
    "    points = 20\n",
    "else:\n",
    "    points = 25\n",
    "    \n",
    "print(\"you have earned \" + str(points) + \" points!\" )"
   ]
  },
  {
   "cell_type": "code",
   "execution_count": 20,
   "metadata": {},
   "outputs": [
    {
     "name": "stdout",
     "output_type": "stream",
     "text": [
      "You are a elder.\n"
     ]
    }
   ],
   "source": [
    "#more practice from textbook\n",
    "age = 66\n",
    "if age < 2:\n",
    "    person = 'baby'\n",
    "elif age < 4:\n",
    "    person = 'toddler'\n",
    "elif age < 13:\n",
    "    person = 'kid'\n",
    "elif age < 20:\n",
    "    person = 'teenager'\n",
    "elif age < 65:\n",
    "    person = 'adult'\n",
    "elif age >= 65:\n",
    "    person = 'elder'\n",
    "    \n",
    "print(\"You are a \" + person + \".\")"
   ]
  },
  {
   "cell_type": "code",
   "execution_count": 28,
   "metadata": {},
   "outputs": [
    {
     "name": "stdout",
     "output_type": "stream",
     "text": [
      "I really like pawpaw\n"
     ]
    }
   ],
   "source": [
    "# more practice\n",
    "favorite_fruits = ['pawpaw', 'apple', 'grapes']\n",
    "if 'pawpaw' in favorite_fruits:\n",
    "    print(\"I really like pawpaw\")"
   ]
  },
  {
   "cell_type": "code",
   "execution_count": 32,
   "metadata": {},
   "outputs": [
    {
     "name": "stdout",
     "output_type": "stream",
     "text": [
      "Sorry we are out of mushrooms\n",
      "Adding green peppers.\n",
      "Adding pepperoni.\n",
      "\n",
      "Your pizza is ready!\n"
     ]
    }
   ],
   "source": [
    "# using \"if\" statements with lists - combining \"for\" loops with \"if\" statements\n",
    "requested_toppings = ['mushrooms', 'green peppers', 'pepperoni']\n",
    "for requested_topping in requested_toppings:\n",
    "    if requested_topping == 'mushrooms':\n",
    "        print(\"Sorry we are out of mushrooms\")\n",
    "    else:\n",
    "        print(\"Adding \" + requested_topping + \".\")\n",
    "        \n",
    "print(\"\\nYour pizza is ready!\")"
   ]
  },
  {
   "cell_type": "code",
   "execution_count": 34,
   "metadata": {},
   "outputs": [
    {
     "name": "stdout",
     "output_type": "stream",
     "text": [
      "Are you sure you want a plain pizza?\n"
     ]
    }
   ],
   "source": [
    "# checking if we are working with an empty cell requires us to start with \"if\" statement then \"for loop\"\n",
    "requested_toppings = []\n",
    "if requested_toppings:\n",
    "    for requested_topping in requested_toppings:\n",
    "        print(\"Adding \" + requested_topping + \".\")\n",
    "        \n",
    "    print(\"Your pizza is ready!\")\n",
    "else:\n",
    "    print(\"Are you sure you want a plain pizza?\")"
   ]
  },
  {
   "cell_type": "code",
   "execution_count": 37,
   "metadata": {},
   "outputs": [
    {
     "name": "stdout",
     "output_type": "stream",
     "text": [
      "Sorry we dont have spinach.\n",
      "Adding pepperoni.\n",
      "Sorry we dont have turkey.\n",
      "Adding sausage.\n",
      "\n",
      "Your pizza is ready!\n"
     ]
    }
   ],
   "source": [
    "# using \"if\" and \"for loops\" practice\n",
    "available_toppings = ['pepperoni', 'sausage', 'extra cheese', 'ham', 'pineapples']\n",
    "\n",
    "requested_toppings = ['spinach', 'pepperoni', 'turkey', 'sausage']\n",
    "\n",
    "for requested_topping in requested_toppings:\n",
    "    if requested_topping in available_toppings:\n",
    "        print(\"Adding \" + requested_topping + \".\")\n",
    "    else:\n",
    "        print(\"Sorry we dont have \" + requested_topping + \".\")\n",
    "        \n",
    "print(\"\\nYour pizza is ready!\")"
   ]
  },
  {
   "cell_type": "code",
   "execution_count": 39,
   "metadata": {},
   "outputs": [
    {
     "name": "stdout",
     "output_type": "stream",
     "text": [
      "Welcome chukach!\n",
      "Welcome bigpon4eva!\n",
      "Welcome lilzone!\n",
      "Welcome admin. Would you like a status report?\n"
     ]
    }
   ],
   "source": [
    "# more practice from textbook\n",
    "usernames = ['chukach', 'bigpon4eva', 'lilzone', 'admin']\n",
    "for user in usernames:\n",
    "    if user == 'admin':\n",
    "        print(\"Welcome \" + user + \". Would you like a status report?\")\n",
    "    else:\n",
    "        print(\"Welcome \" + user + \"!\")"
   ]
  },
  {
   "cell_type": "code",
   "execution_count": 41,
   "metadata": {},
   "outputs": [
    {
     "name": "stdout",
     "output_type": "stream",
     "text": [
      "1st\n"
     ]
    }
   ],
   "source": [
    "#more practice...\n",
    "numbers = [1, 2, 3, 4, 5, 6, 7, 8, 9]\n",
    "for number in numbers:\n",
    "    if number == 1:\n",
    "        print(\"1st\")"
   ]
  }
 ],
 "metadata": {
  "kernelspec": {
   "display_name": "Python 3",
   "language": "python",
   "name": "python3"
  },
  "language_info": {
   "codemirror_mode": {
    "name": "ipython",
    "version": 3
   },
   "file_extension": ".py",
   "mimetype": "text/x-python",
   "name": "python",
   "nbconvert_exporter": "python",
   "pygments_lexer": "ipython3",
   "version": "3.8.6"
  }
 },
 "nbformat": 4,
 "nbformat_minor": 4
}
