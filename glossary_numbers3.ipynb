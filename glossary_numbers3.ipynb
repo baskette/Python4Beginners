{
 "cells": [
  {
   "cell_type": "code",
   "execution_count": 11,
   "metadata": {},
   "outputs": [
    {
     "data": {
      "text/plain": [
       "1.5"
      ]
     },
     "execution_count": 11,
     "metadata": {},
     "output_type": "execute_result"
    }
   ],
   "source": [
    "#intro to integers\n",
    "2+3*4\n",
    "\n",
    "2**10\n",
    "\n",
    "10**5\n",
    "\n",
    "0.2+0.1\n",
    "3/2\n",
    "\n"
   ]
  },
  {
   "cell_type": "code",
   "execution_count": 10,
   "metadata": {},
   "outputs": [
    {
     "name": "stdout",
     "output_type": "stream",
     "text": [
      "Happy 23rd Birthday!\n"
     ]
    }
   ],
   "source": [
    "#integers and str(). str() is used to specify that an number be treated as a string\n",
    "age = 23\n",
    "message = \"Happy \" + str(23) + \"rd Birthday!\"\n",
    "print(message)"
   ]
  },
  {
   "cell_type": "code",
   "execution_count": 13,
   "metadata": {},
   "outputs": [
    {
     "name": "stdout",
     "output_type": "stream",
     "text": [
      "8\n",
      "pick 6 next time\n"
     ]
    }
   ],
   "source": [
    "# practicing integers and str()\n",
    "print(7+1)\n",
    "\n",
    "favorite_number = 6\n",
    "message = \"pick \" + str(favorite_number) + \" next time\"\n",
    "print(message)"
   ]
  },
  {
   "cell_type": "code",
   "execution_count": 15,
   "metadata": {},
   "outputs": [
    {
     "name": "stdout",
     "output_type": "stream",
     "text": [
      "The Zen of Python, by Tim Peters\n",
      "\n",
      "Beautiful is better than ugly.\n",
      "Explicit is better than implicit.\n",
      "Simple is better than complex.\n",
      "Complex is better than complicated.\n",
      "Flat is better than nested.\n",
      "Sparse is better than dense.\n",
      "Readability counts.\n",
      "Special cases aren't special enough to break the rules.\n",
      "Although practicality beats purity.\n",
      "Errors should never pass silently.\n",
      "Unless explicitly silenced.\n",
      "In the face of ambiguity, refuse the temptation to guess.\n",
      "There should be one-- and preferably only one --obvious way to do it.\n",
      "Although that way may not be obvious at first unless you're Dutch.\n",
      "Now is better than never.\n",
      "Although never is often better than *right* now.\n",
      "If the implementation is hard to explain, it's a bad idea.\n",
      "If the implementation is easy to explain, it may be a good idea.\n",
      "Namespaces are one honking great idea -- let's do more of those!\n"
     ]
    }
   ],
   "source": [
    "# The Zen of Python\n",
    "import this"
   ]
  },
  {
   "cell_type": "code",
   "execution_count": 2,
   "metadata": {},
   "outputs": [],
   "source": [
    "# methods I know so far\n",
    "\n",
    ".title()\n",
    ".upper()\n",
    ".lower()\n",
    ".rstrip()\n",
    ".lstrip()\n",
    ".strip()\n",
    ".append()\n",
    ".insert()\n",
    ".pop()\n",
    ".remove()\n",
    ".sort()\n",
    ".reverse()\n",
    ".items()\n",
    ".keys()\n",
    "# \".items()\" is used for looping through all the items in a dictionary\n",
    "# \".keys()\" is used for looping through just the keys in a dictionary\n",
    ".values()\n",
    "# \".values()\" method is used to loop through all the values in a dictionary"
   ]
  },
  {
   "cell_type": "code",
   "execution_count": null,
   "metadata": {},
   "outputs": [],
   "source": [
    "# statements that I know so far\n",
    "del\n",
    "# del goes before the variable"
   ]
  },
  {
   "cell_type": "code",
   "execution_count": null,
   "metadata": {},
   "outputs": [],
   "source": [
    "# arguments I have learned so far\n",
    "# arguments can be passed through methods\n",
    "reverse=True"
   ]
  },
  {
   "cell_type": "code",
   "execution_count": null,
   "metadata": {},
   "outputs": [],
   "source": [
    "# loops that I've learned \n",
    "for \n",
    "# with a \"for\" loop python tells you to put an item from the list and store it \"in\" a variable. \n",
    "# for example, for every magician in a list magicians, print each magician's name.\n",
    "while\n",
    "# used to keep a program going while certain conditions remain"
   ]
  },
  {
   "cell_type": "code",
   "execution_count": null,
   "metadata": {},
   "outputs": [],
   "source": [
    "# functions I have learned so far\n",
    "sorted()\n",
    "#functions are different from methods, in that the whole variable is dropped into the function \n",
    "# while methods are appended to variables\n",
    "len()\n",
    "# use len to find the length of a list\n",
    "str()\n",
    "# use str to specify that number should be intepreted as string\n",
    "range()\n",
    "# use range function to print a series of numbers\n",
    "list()\n",
    "# use list function to list numbers.\n",
    "min()\n",
    "max()\n",
    "sum()\n",
    "# used to find minimum, maximum and sum of numerical lists\n",
    "input()\n",
    "# used to accept data from users\n",
    "int()\n",
    "# used to convert the string representation of a number to a numerical representation"
   ]
  },
  {
   "cell_type": "code",
   "execution_count": null,
   "metadata": {},
   "outputs": [],
   "source": [
    "# equality operator '==' is used to test equality.\n",
    "# to test inequality use '!='...! means NOT\n",
    "# '+=' operator is used to extend a prompt to another line\n",
    "# '+=' operator is also shorthand for adding a number to a variable\n",
    "# modulo operator \"%\" returns the remainder from a division of numbers. returns zero for divisible numbers"
   ]
  },
  {
   "cell_type": "code",
   "execution_count": null,
   "metadata": {},
   "outputs": [],
   "source": [
    "#syntax I've learned so far\n",
    "if\n",
    "else\n",
    "if-elif-else\n"
   ]
  },
  {
   "cell_type": "code",
   "execution_count": 1,
   "metadata": {},
   "outputs": [
    {
     "ename": "SyntaxError",
     "evalue": "invalid syntax (<ipython-input-1-2eb063a3eb5c>, line 2)",
     "output_type": "error",
     "traceback": [
      "\u001b[1;36m  File \u001b[1;32m\"<ipython-input-1-2eb063a3eb5c>\"\u001b[1;36m, line \u001b[1;32m2\u001b[0m\n\u001b[1;33m    1. INDENTATION!!\u001b[0m\n\u001b[1;37m       ^\u001b[0m\n\u001b[1;31mSyntaxError\u001b[0m\u001b[1;31m:\u001b[0m invalid syntax\n"
     ]
    }
   ],
   "source": [
    "# UNSUSPECTING REASONS FOR ERRORS IN YOUR CODE\n",
    "1. INDENTATION!!\n",
    "2. SPELLING ERRORS\n",
    "3. ABSENCE OF BRACES"
   ]
  },
  {
   "cell_type": "code",
   "execution_count": null,
   "metadata": {},
   "outputs": [],
   "source": []
  }
 ],
 "metadata": {
  "kernelspec": {
   "display_name": "Python 3",
   "language": "python",
   "name": "python3"
  },
  "language_info": {
   "codemirror_mode": {
    "name": "ipython",
    "version": 3
   },
   "file_extension": ".py",
   "mimetype": "text/x-python",
   "name": "python",
   "nbconvert_exporter": "python",
   "pygments_lexer": "ipython3",
   "version": "3.8.6"
  }
 },
 "nbformat": 4,
 "nbformat_minor": 4
}
