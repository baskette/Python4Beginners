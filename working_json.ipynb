{
 "cells": [
  {
   "cell_type": "code",
   "execution_count": 16,
   "metadata": {},
   "outputs": [
    {
     "name": "stdout",
     "output_type": "stream",
     "text": [
      "85 69 2\n"
     ]
    }
   ],
   "source": [
    "import json\n",
    "\n",
    "import pygal\n",
    "from pygal.style import LightColorizedStyle as LCS, RotateStyle as RS\n",
    "\n",
    "from country_codes import get_country_code\n",
    "\n",
    "# Load the data into a list\n",
    "filename = 'population_data.json'\n",
    "with open(filename) as f:\n",
    "    pop_data = json.load(f)\n",
    "    \n",
    "# Print the 2010 population for each country\n",
    "# Build a dictionary of population data\n",
    "\n",
    "cc_populations = {}\n",
    "for pop_dict in pop_data:\n",
    "    if pop_dict['Year'] == '2010':\n",
    "        country_name = pop_dict['Country Name']\n",
    "        population = int(float(pop_dict['Value']))\n",
    "# the float()  function turns the string into a decimal, and the int() function drops the decimal part of the number\n",
    "# and returns an integer\n",
    "        code = get_country_code(country_name)\n",
    "        if code:\n",
    "            cc_populations[code] = population\n",
    "\n",
    "# Group the countries into 3 population levels.\n",
    "cc_pops_1, cc_pops_2, cc_pops_3 = {}, {}, {}\n",
    "for cc, pop in cc_populations.items():\n",
    "    if pop < 10000000:\n",
    "        cc_pops_1[cc] = pop\n",
    "    elif pop < 1000000000:\n",
    "        cc_pops_2[cc] = pop\n",
    "    else:\n",
    "        cc_pops_3[cc] = pop\n",
    "\n",
    "print(len(cc_pops_1), len(cc_pops_2), len(cc_pops_3))\n",
    "    \n",
    "    \n",
    "wm_style = RS('#ff4500', base_style=LCS)\n",
    "wm = pygal.maps.world.World(style=wm_style)\n",
    "wm.title = 'World Population in 2010, by Country'\n",
    "wm.add('0-10m', cc_pops_1)\n",
    "wm.add('10m-1bn', cc_pops_2)\n",
    "wm.add('>1bn', cc_pops_3)\n",
    "\n",
    "wm.render_to_file('world_population.svg')   \n",
    "    "
   ]
  }
 ],
 "metadata": {
  "kernelspec": {
   "display_name": "Python 3",
   "language": "python",
   "name": "python3"
  },
  "language_info": {
   "codemirror_mode": {
    "name": "ipython",
    "version": 3
   },
   "file_extension": ".py",
   "mimetype": "text/x-python",
   "name": "python",
   "nbconvert_exporter": "python",
   "pygments_lexer": "ipython3",
   "version": "3.8.6"
  }
 },
 "nbformat": 4,
 "nbformat_minor": 4
}
