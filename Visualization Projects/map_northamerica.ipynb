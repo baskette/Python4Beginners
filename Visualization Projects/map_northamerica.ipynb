{
 "cells": [
  {
   "cell_type": "code",
   "execution_count": 1,
   "metadata": {},
   "outputs": [],
   "source": [
    "import pygal\n",
    "\n",
    "wm = pygal.maps.world.World()\n",
    "wm.title = 'Population of Countries in North America'\n",
    "wm.add('North America', {'ca': 34126000, 'us': 309349000, 'mx': 113423000})\n",
    "\n",
    "wm.render_to_file('north_america.svg')"
   ]
  }
 ],
 "metadata": {
  "kernelspec": {
   "display_name": "Python 3",
   "language": "python",
   "name": "python3"
  },
  "language_info": {
   "codemirror_mode": {
    "name": "ipython",
    "version": 3
   },
   "file_extension": ".py",
   "mimetype": "text/x-python",
   "name": "python",
   "nbconvert_exporter": "python",
   "pygments_lexer": "ipython3",
   "version": "3.8.6"
  }
 },
 "nbformat": 4,
 "nbformat_minor": 4
}
