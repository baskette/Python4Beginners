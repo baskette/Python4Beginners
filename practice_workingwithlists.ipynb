{
 "cells": [
  {
   "cell_type": "code",
   "execution_count": 22,
   "metadata": {},
   "outputs": [
    {
     "name": "stdout",
     "output_type": "stream",
     "text": [
      "apples\n",
      "Apples saved me fucking life.\n",
      "You should eat more Apples.\n",
      "\n",
      "oranges\n",
      "Oranges saved me fucking life.\n",
      "You should eat more Oranges.\n",
      "\n",
      "pineapples\n",
      "Pineapples saved me fucking life.\n",
      "You should eat more Pineapples.\n",
      "\n",
      "strawberries\n",
      "Strawberries saved me fucking life.\n",
      "You should eat more Strawberries.\n",
      "\n",
      "blackberries\n",
      "Blackberries saved me fucking life.\n",
      "You should eat more Blackberries.\n",
      "\n",
      "Eat more fruits and veggies\n"
     ]
    }
   ],
   "source": [
    "# for loops\n",
    "# add colon at the end of the 'for' line\n",
    "# always indent the line after the 'for' statement\n",
    "# any line of code after a for loop that are not indented will not be looped or repeated\n",
    "fruits = ['apples', 'oranges', 'pineapples', 'strawberries', 'blackberries']\n",
    "for fruit in fruits:\n",
    "    print(fruit)\n",
    "    print(fruit.title() + \" saved me fucking life.\")\n",
    "    print(\"You should eat more \" + fruit.title() + \".\\n\")\n",
    "print(\"Eat more fruits and veggies\")"
   ]
  },
  {
   "cell_type": "code",
   "execution_count": 28,
   "metadata": {},
   "outputs": [
    {
     "name": "stdout",
     "output_type": "stream",
     "text": [
      "pepperoni\n",
      "I love Pepperoni pizza.\n",
      "\n",
      "sausage\n",
      "I love Sausage pizza.\n",
      "\n",
      "veggie\n",
      "I love Veggie pizza.\n",
      "\n",
      "cheese\n",
      "I love Cheese pizza.\n",
      "\n",
      "I really love pizza.\n"
     ]
    }
   ],
   "source": [
    "# for loop practice from textbook\n",
    "pizza_list = ['pepperoni', 'sausage', 'veggie', 'cheese']\n",
    "for pizza in pizza_list:\n",
    "        print(pizza)\n",
    "        print(\"I love \" + pizza.title() + \" pizza.\\n\")\n",
    "print(\"I really love pizza.\")"
   ]
  },
  {
   "cell_type": "code",
   "execution_count": 32,
   "metadata": {},
   "outputs": [
    {
     "name": "stdout",
     "output_type": "stream",
     "text": [
      "goat\n",
      "A goat will make a great pet.\n",
      "\n",
      "sheep\n",
      "A sheep will make a great pet.\n",
      "\n",
      "camel\n",
      "A camel will make a great pet.\n",
      "\n",
      "dog\n",
      "A dog will make a great pet.\n",
      "\n",
      "chicken\n",
      "A chicken will make a great pet.\n",
      "\n",
      "They all have amazing characters.\n"
     ]
    }
   ],
   "source": [
    "# more for loop practice\n",
    "animals = ['goat', 'sheep', 'camel', 'dog', 'chicken']\n",
    "for animal in animals:\n",
    "    print(animal)\n",
    "    print(\"A \" + animal + \" will make a great pet.\\n\")\n",
    "print(\"They all have amazing characters.\")"
   ]
  },
  {
   "cell_type": "code",
   "execution_count": 50,
   "metadata": {},
   "outputs": [
    {
     "name": "stdout",
     "output_type": "stream",
     "text": [
      "['ronaldinho', 'kaka', 'messi']\n",
      "['ronaldinho', 'kaka', 'messi', 'ronaldo', 'robinho']\n",
      "['kaka', 'messi', 'ronaldo', 'robinho', 'nemar', 'kante', 'lampapa']\n",
      "['nemar', 'kante', 'lampapa']\n",
      "ronaldinho\n",
      "kaka\n",
      "messi\n",
      "ronaldo\n"
     ]
    }
   ],
   "source": [
    "# slicing\n",
    "# the slice symbol [] acts a bit like a method \n",
    "# to make a slice/copy with all the elements in a list, use [:]\n",
    "players = ['ronaldinho', 'kaka', 'messi', 'ronaldo', 'robinho', 'nemar', 'kante', 'lampapa']\n",
    "print(players[0:3])\n",
    "print(players[:5])\n",
    "print(players[1:])\n",
    "print(players[-3:])\n",
    "for player in players[0:4]:\n",
    "    print(player)"
   ]
  },
  {
   "cell_type": "code",
   "execution_count": 67,
   "metadata": {},
   "outputs": [
    {
     "name": "stdout",
     "output_type": "stream",
     "text": [
      "['moi moi', 'kanda', 'azu', 'ahuekere']\n",
      "['moi moi', 'kanda', 'azu', 'ahuekere', 'ukazi']\n",
      "['moi moi', 'kanda', 'azu', 'ahuekere', 'egusi']\n",
      "The first three items in the list are: \n",
      "Moi Moi\n",
      "Kanda\n",
      "Azu\n",
      "Two items from the middle are:\n",
      "\n",
      "Moi Moi\n",
      "Kanda\n"
     ]
    }
   ],
   "source": [
    "# slicing exercise from textbook\n",
    "best_food = ['moi moi', 'kanda', 'azu', 'ahuekere']\n",
    "friend_bestfood = best_food[:]\n",
    "print(friend_bestfood)\n",
    "\n",
    "best_food.append('ukazi')\n",
    "print(best_food)\n",
    "friend_bestfood.append('egusi')\n",
    "print(friend_bestfood)\n",
    "\n",
    "print(\"The first three items in the list are: \")\n",
    "for best in best_food[0:3]:\n",
    "    print(best.title())\n",
    "print(\"Two items from the middle are:\\n\")\n",
    "for best in best_food[0:2]:\n",
    "    print(best.title())\n"
   ]
  },
  {
   "cell_type": "code",
   "execution_count": 73,
   "metadata": {},
   "outputs": [
    {
     "name": "stdout",
     "output_type": "stream",
     "text": [
      "['pepperoni', 'cheese', 'mushroom', 'pan', 'rotisserie', 'sausage']\n",
      "My favorite pizza are:\n",
      "Pepperoni\n",
      "Cheese\n",
      "Mushroom\n",
      "Pan\n",
      "Rotisserie\n",
      "Sausage\n",
      "New York\n",
      "My friend's favorite pizzas are:\n",
      "pepperoni\n",
      "cheese\n",
      "mushroom\n",
      "pan\n",
      "rotisserie\n",
      "sausage\n",
      "meat lovers\n"
     ]
    }
   ],
   "source": [
    "# more slicing and copying lists exercise\n",
    "my_pizza = ['pepperoni', 'cheese', 'mushroom', 'pan', 'rotisserie', 'sausage']\n",
    "friend_pizza = my_pizza[:]\n",
    "print(friend_pizza)\n",
    "my_pizza.append('new york')\n",
    "friend_pizza.append('meat lovers')\n",
    "print(\"My favorite pizza are:\")\n",
    "for pizza in my_pizza:\n",
    "    print(pizza.title())\n",
    "print(\"My friend's favorite pizzas are:\")\n",
    "for pizza in friend_pizza:\n",
    "    print(pizza)"
   ]
  },
  {
   "cell_type": "code",
   "execution_count": 76,
   "metadata": {},
   "outputs": [
    {
     "name": "stdout",
     "output_type": "stream",
     "text": [
      "200\n",
      "50\n",
      "200\n",
      "50\n",
      "150\n"
     ]
    }
   ],
   "source": [
    "# introducing tuples. tuples are immutable lists i.e lists that cannot change\n",
    "# tuples unlike lists use parentheses not square brackets\n",
    "dimensions = (200, 50, 150)\n",
    "print(dimensions[0])\n",
    "print(dimensions[1])\n",
    "\n",
    "for dimension in dimensions:\n",
    "    print(dimension)\n",
    "\n"
   ]
  },
  {
   "cell_type": "code",
   "execution_count": 78,
   "metadata": {},
   "outputs": [
    {
     "name": "stdout",
     "output_type": "stream",
     "text": [
      "rice\n",
      "beef stew\n",
      "lasagna\n",
      "macaroni\n",
      "angel dust\n",
      "original Menu:\n",
      "rice\n",
      "beef stew\n",
      "lasagna\n",
      "macaroni\n",
      "angel dust\n",
      "\n",
      "Modified menu:\n",
      "rice\n",
      "beef stew\n",
      "lasagna\n",
      "macaroni\n"
     ]
    }
   ],
   "source": [
    "# tuple practice from textbook\n",
    "buffet_menu = ('rice', 'beef stew', 'lasagna', 'macaroni', 'angel dust')\n",
    "for buffet in buffet_menu:\n",
    "    print(buffet)\n",
    "    \n",
    "print(\"original Menu:\")\n",
    "for buffet in buffet_menu:\n",
    "    print(buffet)\n",
    "    \n",
    "buffet_menu = ('rice', 'beef stew', 'lasagna', 'macaroni')\n",
    "print(\"\\nModified menu:\")\n",
    "for buffet in buffet_menu:\n",
    "    print(buffet)"
   ]
  }
 ],
 "metadata": {
  "kernelspec": {
   "display_name": "Python 3",
   "language": "python",
   "name": "python3"
  },
  "language_info": {
   "codemirror_mode": {
    "name": "ipython",
    "version": 3
   },
   "file_extension": ".py",
   "mimetype": "text/x-python",
   "name": "python",
   "nbconvert_exporter": "python",
   "pygments_lexer": "ipython3",
   "version": "3.8.6"
  }
 },
 "nbformat": 4,
 "nbformat_minor": 4
}
