{
 "cells": [
  {
   "cell_type": "code",
   "execution_count": 1,
   "metadata": {},
   "outputs": [
    {
     "name": "stdout",
     "output_type": "stream",
     "text": [
      "Tell me something, and I will repeat it back to you: hello everyone\n"
     ]
    }
   ],
   "source": [
    "# input() is used to collect user information. it pauses the program to receive user info and stores it in a variable\n",
    "# remember for functions you insert the code in the braces\n",
    "message = input(\"Tell me something, and I will repeat it back to you: \")\n",
    "\n",
    "\n"
   ]
  },
  {
   "cell_type": "code",
   "execution_count": 2,
   "metadata": {},
   "outputs": [
    {
     "name": "stdout",
     "output_type": "stream",
     "text": [
      "Please enter your name: Chuka Ufomadu\n",
      "Hello, Chuka Ufomadu!\n"
     ]
    }
   ],
   "source": [
    "name = input(\"Please enter your name: \")\n",
    "print(\"Hello, \" + name + \"!\")\n"
   ]
  },
  {
   "cell_type": "code",
   "execution_count": 3,
   "metadata": {},
   "outputs": [
    {
     "name": "stdout",
     "output_type": "stream",
     "text": [
      "If you tell us who you are, we can personalize the messages you see\n",
      "What is your first name?: \n",
      "Hello, !\n"
     ]
    }
   ],
   "source": [
    "# for a prompt longer than one line, store prompt in a variable and pass variable through the input function\n",
    "#the \"+=\" operator is used to extend the prompt to another line for super long prompts\n",
    "prompt = \"If you tell us who you are, we can personalize the messages you see\"\n",
    "prompt += \"\\nWhat is your first name?: \"\n",
    "\n",
    "name = input(prompt)\n",
    "print(\"Hello, \" + name + \"!\") "
   ]
  },
  {
   "cell_type": "code",
   "execution_count": 6,
   "metadata": {},
   "outputs": [
    {
     "name": "stdout",
     "output_type": "stream",
     "text": [
      "How old are you? 21\n",
      "21\n"
     ]
    },
    {
     "data": {
      "text/plain": [
       "True"
      ]
     },
     "execution_count": 6,
     "metadata": {},
     "output_type": "execute_result"
    }
   ],
   "source": [
    "age = input(\"How old are you? \")\n",
    "print(age)\n",
    "age = int(age)\n",
    "\n",
    "age >= 18"
   ]
  },
  {
   "cell_type": "code",
   "execution_count": 9,
   "metadata": {},
   "outputs": [
    {
     "name": "stdout",
     "output_type": "stream",
     "text": [
      "How tall are you in inches? 56\n",
      "You are tall enough to ride!\n"
     ]
    }
   ],
   "source": [
    "# the \"int()\" function converts the string representation of a number to the numerical representation\n",
    "height = input(\"How tall are you in inches? \")\n",
    "height = int(height)\n",
    "if height >= 36:\n",
    "    print(\"You are tall enough to ride!\")\n",
    "else:\n",
    "    print(\"Sorry, you are not tall enough for this ride. Please try another ride\")"
   ]
  },
  {
   "cell_type": "code",
   "execution_count": 13,
   "metadata": {},
   "outputs": [
    {
     "name": "stdout",
     "output_type": "stream",
     "text": [
      "Enter a number and I'll tell you if it's even or odd: 57\n",
      "Your number 57 is odd\n"
     ]
    }
   ],
   "source": [
    "# modulo operator \"%\" returns the remainder from a division of numbers. returns zero for divisible numbers\n",
    "number = input(\"Enter a number and I'll tell you if it's even or odd: \")\n",
    "number = int(number)\n",
    "if number % 2 == 0:\n",
    "    print(\"Your number \" + str(number) + \" is even\")\n",
    "else:\n",
    "    print(\"Your number \" + str(number) + \" is odd\")"
   ]
  },
  {
   "cell_type": "code",
   "execution_count": 15,
   "metadata": {},
   "outputs": [
    {
     "name": "stdout",
     "output_type": "stream",
     "text": [
      "What brand of rental car are you looking for? toyota\n",
      "Let me see if I can find you a Toyota.\n"
     ]
    }
   ],
   "source": [
    "# practice from textbook on using input function\n",
    "rental = input(\"What brand of rental car are you looking for? \")\n",
    "print(\"Let me see if I can find you a \" + rental.title() + \".\")"
   ]
  },
  {
   "cell_type": "code",
   "execution_count": 17,
   "metadata": {},
   "outputs": [
    {
     "name": "stdout",
     "output_type": "stream",
     "text": [
      "How many people are in your party? 5\n",
      "Your table is ready. Follow me!\n"
     ]
    }
   ],
   "source": [
    "dinner_group = input(\"How many people are in your party? \")\n",
    "dinner_group = int(dinner_group)\n",
    "if dinner_group >= 8:\n",
    "    print(\"Please wait in the waiting area till a table is available for you.\")\n",
    "else:\n",
    "    print(\"Your table is ready. Follow me!\")"
   ]
  },
  {
   "cell_type": "code",
   "execution_count": null,
   "metadata": {},
   "outputs": [],
   "source": [
    "multiples = input(\"Tell me a number and I'll tell you if it's a multiple of 10: \")\n",
    "multiples = int(multiples)\n",
    "if multiples % 10 == 0:\n",
    "    print(\"Your number \" + str(multiples) + \" is a multiple of 10\")\n",
    "else:\n",
    "    print(\"Your number \" + str(multiples) + \" is not a multiple of 10\")"
   ]
  },
  {
   "cell_type": "code",
   "execution_count": 1,
   "metadata": {
    "scrolled": true
   },
   "outputs": [
    {
     "name": "stdout",
     "output_type": "stream",
     "text": [
      "1\n",
      "2\n",
      "3\n",
      "4\n",
      "5\n"
     ]
    }
   ],
   "source": [
    "# while loops runs code continuously while conditions remain\n",
    "current_number = 1\n",
    "while current_number <= 5:\n",
    "    print(current_number)\n",
    "    current_number += 1"
   ]
  },
  {
   "cell_type": "code",
   "execution_count": 6,
   "metadata": {},
   "outputs": [
    {
     "name": "stdout",
     "output_type": "stream",
     "text": [
      "Tell me something, and I'll repeat it to you: Type 'quit' to end the program boom\n",
      "boom\n",
      "Tell me something, and I'll repeat it to you: Type 'quit' to end the program quit\n"
     ]
    }
   ],
   "source": [
    "prompt = \"Tell me something, and I'll repeat it to you: \"\n",
    "prompt += \"Type 'quit' to end the program \"\n",
    "\n",
    "message = \" \"\n",
    "while message != 'quit':\n",
    "    message = input(prompt)\n",
    "    \n",
    "    if message != 'quit':\n",
    "        print(message)"
   ]
  },
  {
   "cell_type": "code",
   "execution_count": null,
   "metadata": {
    "scrolled": true
   },
   "outputs": [],
   "source": [
    "prompt = \"Tell me something, and I'll repeat it to you: \"\n",
    "prompt += \"Type 'quit' to end the program \"\n",
    "\n",
    "active = True\n",
    "while active:\n",
    "    message = input(prompt)\n",
    "    if message == 'quit':\n",
    "        active = False\n",
    "    else:\n",
    "        print(message)"
   ]
  },
  {
   "cell_type": "code",
   "execution_count": null,
   "metadata": {},
   "outputs": [],
   "source": [
    "# use \"break\" to force loop to stop regardless of other conditions met\n",
    "prompt = \"\\nPlease enter the name of a city you have visited: \"\n",
    "prompt += \"\\n(Enter 'quit' when you are finished.) \"\n",
    "\n",
    "while True:\n",
    "    city = input(prompt)\n",
    "    \n",
    "    if city == 'quit':\n",
    "        break\n",
    "    else:\n",
    "        print(\"I'd love to visit \" + city.title() + \"!\")\n",
    "        "
   ]
  },
  {
   "cell_type": "code",
   "execution_count": 1,
   "metadata": {},
   "outputs": [
    {
     "name": "stdout",
     "output_type": "stream",
     "text": [
      "What is your favorite soccer team?: \n",
      "Enter 'quit' when you are finished.quit\n"
     ]
    }
   ],
   "source": [
    "# another example using breaks\n",
    "prompt = \"What is your favorite soccer team?: \"\n",
    "prompt += \"\\nEnter 'quit' when you are finished.\"\n",
    "\n",
    "while True:\n",
    "    soccer_team = input(prompt)\n",
    "    \n",
    "    if soccer_team == 'quit':\n",
    "        break\n",
    "    else:\n",
    "        print(\"I bet my team can beat \" + soccer_team.title() + \"!\")\n",
    "        "
   ]
  },
  {
   "cell_type": "code",
   "execution_count": null,
   "metadata": {},
   "outputs": [],
   "source": [
    "current_number = 0\n",
    "while current_number < 10:\n",
    "    current_number += 1\n",
    "    \n",
    "    if current_number % 2 == 0:\n",
    "        continue\n",
    "    print(current_number)"
   ]
  },
  {
   "cell_type": "code",
   "execution_count": 1,
   "metadata": {},
   "outputs": [
    {
     "name": "stdout",
     "output_type": "stream",
     "text": [
      "Enter your pizza topping here: \n",
      "Type 'quit' when finished kafkvsd\n",
      "Enter your pizza topping here: \n",
      "Type 'quit' when finished quit\n"
     ]
    }
   ],
   "source": [
    "pizza = \"Enter your pizza topping here: \"\n",
    "pizza += \"\\nType 'quit' when finished \"\n",
    "\n",
    "active = True\n",
    "while active:\n",
    "    word = input(pizza)\n",
    "    if word == 'quit':\n",
    "        break\n",
    "       \n",
    "    "
   ]
  },
  {
   "cell_type": "code",
   "execution_count": 3,
   "metadata": {
    "scrolled": true
   },
   "outputs": [
    {
     "name": "stdout",
     "output_type": "stream",
     "text": [
      "Verifying user: Hendricks\n",
      "Verifying user: Josh\n",
      "Verifying user: Alice\n",
      "\n",
      "The following users have been confimred:\n",
      "Hendricks\n",
      "Josh\n",
      "Alice\n"
     ]
    }
   ],
   "source": [
    "# using while loop to move verified users from a list of unverified users\n",
    "# start with users that need to be verified\n",
    "# and an empty list to hold verified users\n",
    "\n",
    "unconfirmed_users = ['alice', 'josh', 'hendricks']\n",
    "confirmed_users = []\n",
    "\n",
    "# verify each user until there are no more unconfirmed users\n",
    "# move each verified user into the list of confirmed users\n",
    "\n",
    "while unconfirmed_users:\n",
    "    current_user = unconfirmed_users.pop()\n",
    "    \n",
    "    print(\"Verifying user: \" + current_user.title())\n",
    "    confirmed_users.append(current_user)\n",
    "\n",
    "# Display all confirmed users\n",
    "print(\"\\nThe following users have been confimred:\")\n",
    "\n",
    "for confirmed_user in confirmed_users:\n",
    "    print(confirmed_user.title())\n",
    "\n",
    "    \n",
    "\n"
   ]
  },
  {
   "cell_type": "code",
   "execution_count": 11,
   "metadata": {},
   "outputs": [
    {
     "name": "stdout",
     "output_type": "stream",
     "text": [
      "Checking my garage for a Mcclaren\n",
      "Checking my garage for a Lambo\n",
      "Checking my garage for a Benz\n",
      "Checking my garage for a Volvo\n",
      "\n",
      "Here are the cars in my garage: \n",
      "Mcclaren\n",
      "Lambo\n",
      "Benz\n",
      "Volvo\n"
     ]
    }
   ],
   "source": [
    "# transfering cars I own to a sperate lsit from a list of european cars\n",
    "european_cars = ['volvo', 'benz', 'lambo', 'mcclaren']\n",
    "my_collection = []\n",
    "\n",
    "while european_cars:\n",
    "    mycar = european_cars.pop()\n",
    "    print(\"Checking my garage for a \" + mycar.title())\n",
    "    my_collection.append(mycar)\n",
    "    \n",
    "print(\"\\nHere are the cars in my garage: \")\n",
    "for collection in my_collection:\n",
    "    print(collection.title())\n",
    "    \n"
   ]
  },
  {
   "cell_type": "code",
   "execution_count": 13,
   "metadata": {},
   "outputs": [
    {
     "name": "stdout",
     "output_type": "stream",
     "text": [
      "['dog', 'cat', 'dog', 'goldfish', 'cat', 'rabbit', 'cat']\n",
      "['dog', 'dog', 'goldfish', 'rabbit']\n"
     ]
    }
   ],
   "source": [
    "# using while loop to remove all instances of a value from your list\n",
    "# say you have a list of pets with the value \"cat\" appearing severally\n",
    "\n",
    "pets = ['dog', 'cat', 'dog', 'goldfish', 'cat', 'rabbit', 'cat']\n",
    "print(pets)\n",
    "\n",
    "while 'cat' in pets:\n",
    "    pets.remove('cat')\n",
    "    \n",
    "print(pets)"
   ]
  },
  {
   "cell_type": "code",
   "execution_count": 14,
   "metadata": {},
   "outputs": [
    {
     "name": "stdout",
     "output_type": "stream",
     "text": [
      "\n",
      "What is your name? chuka\n",
      "Which mountain will you like to climb someday? everest\n",
      "Would you like to let another person respond? (yes/no) no\n",
      "\n",
      "---Poll Results---\n",
      "chuka would like to climb everest.\n"
     ]
    }
   ],
   "source": [
    "# filling a dictionary with user input\n",
    "# make a polling program in which each loop asks user for name and response. We'll store response in dictionary\n",
    "\n",
    "responses = {}\n",
    "# set a flag to show that polling is active\n",
    "polling_active = True\n",
    "\n",
    "while polling_active:\n",
    "    # prompt for the person's name and response\n",
    "    name = input(\"\\nWhat is your name? \")\n",
    "    response = input(\"Which mountain will you like to climb someday? \")\n",
    "    \n",
    "    #store the responses in the dictionary\n",
    "    responses[name] = response\n",
    "    \n",
    "    # Find out if anyone else is going to take the poll\n",
    "    repeat = input(\"Would you like to let another person respond? (yes/no) \")\n",
    "    if repeat == 'no':\n",
    "        polling_active = False\n",
    "        \n",
    "# Polling is complete. Show results\n",
    "print(\"\\n---Poll Results---\")\n",
    "for name, response in responses.items():\n",
    "    print(name + \" would like to climb \" + response + \".\")"
   ]
  }
 ],
 "metadata": {
  "kernelspec": {
   "display_name": "Python 3",
   "language": "python",
   "name": "python3"
  },
  "language_info": {
   "codemirror_mode": {
    "name": "ipython",
    "version": 3
   },
   "file_extension": ".py",
   "mimetype": "text/x-python",
   "name": "python",
   "nbconvert_exporter": "python",
   "pygments_lexer": "ipython3",
   "version": "3.8.6"
  }
 },
 "nbformat": 4,
 "nbformat_minor": 4
}
