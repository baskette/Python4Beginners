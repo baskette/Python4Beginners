{
 "cells": [
  {
   "cell_type": "code",
   "execution_count": 5,
   "metadata": {},
   "outputs": [
    {
     "name": "stdout",
     "output_type": "stream",
     "text": [
      "Welcome to the O Club\n",
      "The drinks are on the house fool\n"
     ]
    }
   ],
   "source": [
    "# variables and values\n",
    "message = \"Welcome to the O Club\"\n",
    "print(message)\n",
    "\n",
    "\n",
    "message = \"The drinks are on the house fool\"\n",
    "print(message)"
   ]
  },
  {
   "cell_type": "code",
   "execution_count": 6,
   "metadata": {},
   "outputs": [
    {
     "name": "stdout",
     "output_type": "stream",
     "text": [
      "Why has Abe not fixed my lawn?\n"
     ]
    }
   ],
   "source": [
    "#variables hold values\n",
    "first_name = \"Abe\"\n",
    "task_1 = \"Why has \" + first_name + \" \" + \"not fixed my lawn?\"\n",
    "print(task_1)"
   ]
  },
  {
   "cell_type": "code",
   "execution_count": 9,
   "metadata": {},
   "outputs": [
    {
     "name": "stdout",
     "output_type": "stream",
     "text": [
      "Agray Gringory\n",
      "AGRAY GRINGORY\n",
      "agray gringory\n"
     ]
    }
   ],
   "source": [
    "#intro to methods. They tell us how to treat variables\n",
    "first_name = \"agray\"\n",
    "last_name = \"gringory\"\n",
    "full_name = first_name + \" \" + last_name\n",
    "print(full_name.title())\n",
    "print(full_name.upper())\n",
    "print(full_name.lower())\n"
   ]
  },
  {
   "cell_type": "code",
   "execution_count": 13,
   "metadata": {},
   "outputs": [
    {
     "name": "stdout",
     "output_type": "stream",
     "text": [
      "Albert Einstein once said, \"A person who never made a mistake never tried anythng new.\"\n"
     ]
    }
   ],
   "source": [
    "famous_person = \"Albert Einstein\"\n",
    "\n",
    "wise_words = famous_person + ' once said, \"A person who never made a mistake never tried anythng new.\"'\n",
    "print(wise_words)\n",
    "\n"
   ]
  },
  {
   "cell_type": "code",
   "execution_count": 15,
   "metadata": {},
   "outputs": [
    {
     "name": "stdout",
     "output_type": "stream",
     "text": [
      " \tI need the following at the grocery store:\n",
      "rubberband\n",
      "milk\n",
      "bicycle\n",
      "car \n"
     ]
    }
   ],
   "source": [
    "#strip is a method used for strippiong white space\n",
    "grocery_list = \" \\tI need the following at the grocery store:\\nrubberband\\nmilk\\nbicycle\\ncar \"\n",
    "print(grocery_list.strip(\n",
    "))"
   ]
  },
  {
   "cell_type": "code",
   "execution_count": 20,
   "metadata": {},
   "outputs": [
    {
     "name": "stdout",
     "output_type": "stream",
     "text": [
      "\tChuka is \n",
      "going to attend Carnegie Mellon University, Pittsburgh\n"
     ]
    }
   ],
   "source": [
    "# character combinations \\t is for tab and \\n is for newline\n",
    "school_name = \"carnegie mellon university\"\n",
    "city_name = \"pittsburgh\"\n",
    "location = school_name + \",\" + \" \" + city_name\n",
    "affirmation = \"\\tChuka is \\ngoing to attend\" + \" \" + location.title()\n",
    "print(affirmation)"
   ]
  }
 ],
 "metadata": {
  "kernelspec": {
   "display_name": "Python 3",
   "language": "python",
   "name": "python3"
  },
  "language_info": {
   "codemirror_mode": {
    "name": "ipython",
    "version": 3
   },
   "file_extension": ".py",
   "mimetype": "text/x-python",
   "name": "python",
   "nbconvert_exporter": "python",
   "pygments_lexer": "ipython3",
   "version": "3.8.6"
  }
 },
 "nbformat": 4,
 "nbformat_minor": 4
}
