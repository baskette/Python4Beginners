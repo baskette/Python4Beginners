{
 "cells": [
  {
   "cell_type": "code",
   "execution_count": 4,
   "metadata": {},
   "outputs": [
    {
     "name": "stdout",
     "output_type": "stream",
     "text": [
      "green\n",
      "5\n",
      "You just earned 5 points!\n"
     ]
    }
   ],
   "source": [
    "# dictionaries allow us to connect pieces of related information\n",
    "# the example below shows a simple dictionary:\n",
    "# dictionaries use \"{}\" while lists use \"[]\"\n",
    "alien_0 = {'color': 'green', 'points': 5}\n",
    "print(alien_0['color'])\n",
    "print(alien_0['points'])\n",
    "new_points = alien_0['points']\n",
    "print(\"You just earned \" + str(new_points) + \" points!\")"
   ]
  },
  {
   "cell_type": "code",
   "execution_count": 5,
   "metadata": {},
   "outputs": [],
   "source": [
    "# a dictionary is considered a collection of key-value pairs.A key's value can be a number, string, list or even dictionary\n",
    "# keys are connected to their values by a colon. You can store as many key-value pairs as you want in a dictionary.\n",
    "# to access the info in a key,give the dictionary name with the key name placed in square brackets\n"
   ]
  },
  {
   "cell_type": "code",
   "execution_count": 7,
   "metadata": {},
   "outputs": [
    {
     "name": "stdout",
     "output_type": "stream",
     "text": [
      "{'color': 'green', 'points': '5', 'x-position': 0, 'y-position': 25}\n"
     ]
    }
   ],
   "source": [
    "# adding new key-value pairs to a dictionary\n",
    "alien_0 = {'color': 'green', 'points': '5'}\n",
    "alien_0['x-position'] = 0\n",
    "alien_0['y-position'] = 25\n",
    "print(alien_0)"
   ]
  },
  {
   "cell_type": "code",
   "execution_count": 11,
   "metadata": {},
   "outputs": [
    {
     "name": "stdout",
     "output_type": "stream",
     "text": [
      "{'first_name': 'chuka', 'last_name': 'ufomadu', 'age': 29, 'position': 'white one'}\n",
      "I didn't know Big Chuka's last name is Ufomadu.\n"
     ]
    }
   ],
   "source": [
    "# you can start with an empty dictionary and add key-value pairs as you go. useful for user-supplied data\n",
    "big_chuka = {}\n",
    "big_chuka['first_name'] = 'chuka'\n",
    "big_chuka['last_name'] = 'ufomadu'\n",
    "big_chuka['age'] = 29\n",
    "big_chuka['position'] = 'white one'\n",
    "print(big_chuka)\n",
    "print(\"I didn't know Big Chuka's last name is \" + big_chuka['last_name'].title() + \".\")"
   ]
  },
  {
   "cell_type": "code",
   "execution_count": 17,
   "metadata": {},
   "outputs": [
    {
     "name": "stdout",
     "output_type": "stream",
     "text": [
      "New x_position is 2\n",
      "green\n"
     ]
    }
   ],
   "source": [
    "# modifying dictionaries example\n",
    "king_kong = {'x_position': 0, 'y-position': 25, 'speed': 'medium', 'color': 'blue'}\n",
    "if king_kong['speed'] == 'slow':\n",
    "    x_increment = 1\n",
    "    king_kong['color'] = 'blue'\n",
    "elif king_kong['speed'] == 'medium':\n",
    "    x_increment = 2\n",
    "    king_kong['color'] = 'green'\n",
    "else:\n",
    "    x_increment = 3\n",
    "    king_kong['color'] = 'yellow'\n",
    "king_kong['x_position'] = king_kong['x_position'] + x_increment\n",
    "print(\"New x_position is \" + str(king_kong['x_position']))\n",
    "print(king_kong['color'])"
   ]
  },
  {
   "cell_type": "code",
   "execution_count": 19,
   "metadata": {},
   "outputs": [
    {
     "name": "stdout",
     "output_type": "stream",
     "text": [
      "{'title': 'king', 'color': 'black'}\n"
     ]
    }
   ],
   "source": [
    "# to delete key-value pairs use the \"del\" statement\n",
    "king_tchalla = {'age': 25, 'title': 'king', 'color': 'black'}\n",
    "del king_tchalla['age']\n",
    "print(king_tchalla)"
   ]
  },
  {
   "cell_type": "code",
   "execution_count": 22,
   "metadata": {},
   "outputs": [
    {
     "name": "stdout",
     "output_type": "stream",
     "text": [
      "chimdi's favorite wrestler is undertaker.\n"
     ]
    }
   ],
   "source": [
    "# dictionaries can be used to store one kind of information about many objects\n",
    "favorite_wrestlers = {\n",
    "    'chuka': 'rey mysterio',\n",
    "    'chimdi': 'undertaker',\n",
    "    'chibu': 'the rock',\n",
    "    'jerry': 'stone cold',\n",
    "}\n",
    "print(\"chimdi's favorite wrestler is \" + favorite_wrestlers['chimdi'] + \".\")"
   ]
  },
  {
   "cell_type": "code",
   "execution_count": 25,
   "metadata": {},
   "outputs": [
    {
     "name": "stdout",
     "output_type": "stream",
     "text": [
      "{'first_name': 'flordave', 'last_name': 'abadam', 'age': 25, 'city': 'dongducheon'}\n"
     ]
    }
   ],
   "source": [
    "# more practice on dictionaries from textbook\n",
    "friend_0 = {'first_name': 'flordave', 'last_name': 'abadam', 'age': 25, 'city': 'dongducheon'}\n",
    "print(friend_0)"
   ]
  },
  {
   "cell_type": "code",
   "execution_count": 31,
   "metadata": {},
   "outputs": [
    {
     "name": "stdout",
     "output_type": "stream",
     "text": [
      "jen's favorite number is 5.\n",
      "ken's favorite number is 6.\n",
      "chubaca's favorite number is 7.\n",
      "titus' favorite number is 4.\n",
      "reggie's favorite number is 9.\n"
     ]
    }
   ],
   "source": [
    "# more practice on dictionaries\n",
    "favorite_numbers = {\n",
    "    'jen': 5,\n",
    "    'ken': 6,\n",
    "    'chubaca': 7,\n",
    "    'titus': 4,\n",
    "    'reggie': 9,\n",
    "}\n",
    "print(\"jen's favorite number is \" + str(favorite_numbers['jen']) + \".\")\n",
    "print(\"ken's favorite number is \" + str(favorite_numbers['ken']) + \".\")\n",
    "print(\"chubaca's favorite number is \" + str(favorite_numbers['chubaca']) + \".\")\n",
    "print(\"titus' favorite number is \" + str(favorite_numbers['titus']) + \".\")\n",
    "print(\"reggie's favorite number is \" + str(favorite_numbers['reggie']) + \".\")"
   ]
  },
  {
   "cell_type": "code",
   "execution_count": 32,
   "metadata": {},
   "outputs": [
    {
     "name": "stdout",
     "output_type": "stream",
     "text": [
      "String: \n",
      "a string refers to text\n"
     ]
    }
   ],
   "source": [
    "# practice dictionaries from textbook\n",
    "programming_words = {\n",
    "    'string': 'a string refers to text',\n",
    "    'dictionary': 'allows you to store related pieces of information about an object',\n",
    "    'comments': 'help make your code readable',\n",
    "    'variable': 'is an object that contains information or value',\n",
    "    'argument': 'is an action that you want performed on a value',\n",
    "}\n",
    "print(\"String: \\n\" + programming_words['string'])"
   ]
  }
 ],
 "metadata": {
  "kernelspec": {
   "display_name": "Python 3",
   "language": "python",
   "name": "python3"
  },
  "language_info": {
   "codemirror_mode": {
    "name": "ipython",
    "version": 3
   },
   "file_extension": ".py",
   "mimetype": "text/x-python",
   "name": "python",
   "nbconvert_exporter": "python",
   "pygments_lexer": "ipython3",
   "version": "3.8.6"
  }
 },
 "nbformat": 4,
 "nbformat_minor": 4
}
