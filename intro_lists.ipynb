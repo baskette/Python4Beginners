{
 "cells": [
  {
   "cell_type": "code",
   "execution_count": 4,
   "metadata": {},
   "outputs": [
    {
     "name": "stdout",
     "output_type": "stream",
     "text": [
      "['ferrari', 'lambofeeti', 'mcclaren']\n",
      "ferrari\n",
      "mcclaren\n",
      "Ferrari\n"
     ]
    }
   ],
   "source": [
    "# you can have an empty list and slowly add to it (for example watches = [])\n",
    "# square brackets indicate a list and items in a list are seperated by commas\n",
    "fast_cars = ['ferrari', 'lambofeeti', 'mcclaren']\n",
    "print(fast_cars)\n",
    "\n",
    "print(fast_cars[0])\n",
    "print(fast_cars[2])\n",
    "print(fast_cars[0].title())"
   ]
  },
  {
   "cell_type": "code",
   "execution_count": 5,
   "metadata": {},
   "outputs": [
    {
     "name": "stdout",
     "output_type": "stream",
     "text": [
      "POUNDS\n"
     ]
    }
   ],
   "source": [
    "# positions on lists start at 0. Count and subtract 1 for the actual index position of an element\n",
    "currency_list  = ['dollars', 'yen', 'pesos', 'euros', 'pounds']\n",
    "print(currency_list[4].upper())"
   ]
  },
  {
   "cell_type": "code",
   "execution_count": 12,
   "metadata": {},
   "outputs": [
    {
     "name": "stdout",
     "output_type": "stream",
     "text": [
      "COLORADO\n",
      "California\n",
      "arizona\n",
      "missouri\n",
      "North Carolina\n",
      "Florida\n",
      "Alabama\n",
      "Utah\n",
      "New York\n",
      "California\n",
      "Delaware\n",
      "Colorado\n",
      "My wife is from North Carolina.\n",
      "My name is Alabama.\n",
      "My wife is from North Carolina.My name is Alabama.The headquarters of the Navarro Cartel is in DELAWARE\n"
     ]
    }
   ],
   "source": [
    "# to access the last element on a list use -1, other negative numbers used to access elements at the end of a list\n",
    "states_byname = ['arizona', 'missouri', 'north carolina', 'florida', 'alabama', 'utah', 'new york', 'california', 'delaware', 'colorado']\n",
    "print(states_byname[-1].upper())\n",
    "print(states_byname[-3].title())\n",
    "print(states_byname[0].lower())\n",
    "print(states_byname[1].lower())\n",
    "print(states_byname[2].title())\n",
    "print(states_byname[3].title())\n",
    "print(states_byname[4].title())\n",
    "print(states_byname[5].title())\n",
    "print(states_byname[6].title())\n",
    "print(states_byname[7].title())\n",
    "print(states_byname[8].title())\n",
    "print(states_byname[9].title())\n",
    "message = \"My wife is from \" + states_byname[2].title() + \".\"\n",
    "print(message)\n",
    "\n",
    "observer = \"My name is \" + states_byname[4].title() + \".\"\n",
    "print(observer)\n",
    "\n",
    "navarro_cartel = \"The headquarters of the Navarro Cartel is in \" + states_byname[8].upper()\n",
    "print(message + observer + navarro_cartel)"
   ]
  },
  {
   "cell_type": "code",
   "execution_count": 16,
   "metadata": {},
   "outputs": [
    {
     "name": "stdout",
     "output_type": "stream",
     "text": [
      "['denmark', 'france', 'germany', 'netherlands', 'england']\n",
      "denmark\n",
      "['belgium', 'france', 'luxembourg', 'netherlands', 'england']\n"
     ]
    }
   ],
   "source": [
    "# modifying elements in a list\n",
    "european_countries = ['denmark', 'france', 'germany', 'netherlands', 'england']\n",
    "print(european_countries)\n",
    "print(european_countries[0])\n",
    "\n",
    "european_countries[0] = 'belgium'\n",
    "\n",
    "european_countries[2] = 'luxembourg'\n",
    "\n",
    "print(european_countries)"
   ]
  },
  {
   "cell_type": "code",
   "execution_count": 23,
   "metadata": {},
   "outputs": [
    {
     "name": "stdout",
     "output_type": "stream",
     "text": [
      "['kobe', 'jordan', 'lebron']\n",
      "Jordan\n",
      "['kobe', 'jordan', 'lebron', 'kuzma', 'butler']\n"
     ]
    }
   ],
   "source": [
    "# to add new elements to a list use the .append() method\n",
    "nba_players = ['kobe', 'jordan', 'lebron']\n",
    "print(nba_players)\n",
    "print(nba_players[1].title())\n",
    "nba_players.append('kuzma')\n",
    "nba_players.append('butler')\n",
    "print(nba_players)\n"
   ]
  },
  {
   "cell_type": "code",
   "execution_count": 24,
   "metadata": {},
   "outputs": [
    {
     "name": "stdout",
     "output_type": "stream",
     "text": [
      "['fort stewart', 'fort sam houston', 'camp humphreys', 'camp casey']\n"
     ]
    }
   ],
   "source": [
    "# adding elements to an empty list\n",
    "army_bases  = []\n",
    "army_bases.append('fort stewart')\n",
    "army_bases.append('fort sam houston')\n",
    "army_bases.append('camp humphreys')\n",
    "army_bases.append('camp casey')\n",
    "print(army_bases)"
   ]
  },
  {
   "cell_type": "code",
   "execution_count": 25,
   "metadata": {},
   "outputs": [
    {
     "name": "stdout",
     "output_type": "stream",
     "text": [
      "['richmond hill', 'atlanta', 'savannah', 'hinesville']\n"
     ]
    }
   ],
   "source": [
    "# to insert a new element use insert() method by specifying the index position and value inside the method\n",
    "\n",
    "georgia_cities = ['richmond hill', 'savannah', 'hinesville']\n",
    "georgia_cities.insert(1, 'atlanta')\n",
    "print(georgia_cities)"
   ]
  },
  {
   "cell_type": "code",
   "execution_count": 27,
   "metadata": {},
   "outputs": [
    {
     "name": "stdout",
     "output_type": "stream",
     "text": [
      "['cambodia', 'philipines', 'korea', 'japan', 'china']\n"
     ]
    }
   ],
   "source": [
    "# removing an element from a list can be done with the del statement,and specifying the index position in variable\n",
    "asian_countries = ['cambodia', 'philipines', 'korea', 'japan', 'mexico', 'china']\n",
    "del asian_countries[-2]\n",
    "print(asian_countries)\n"
   ]
  },
  {
   "cell_type": "code",
   "execution_count": 31,
   "metadata": {},
   "outputs": [
    {
     "name": "stdout",
     "output_type": "stream",
     "text": [
      "my father is from ibadan.\n",
      "['abia', 'imo', 'adamawa', 'kwara', 'enugu']\n"
     ]
    }
   ],
   "source": [
    "#remove elements by using .pop() method\n",
    "nigerian_states = ['abia', 'imo', 'adamawa', 'kwara', 'enugu', 'ibadan']\n",
    "nigerian_popped = nigerian_states.pop()\n",
    "\n",
    "print(\"my father is from \" + nigerian_popped + \".\")\n",
    "print(nigerian_states)\n",
    "\n"
   ]
  },
  {
   "cell_type": "code",
   "execution_count": 33,
   "metadata": {},
   "outputs": [
    {
     "name": "stdout",
     "output_type": "stream",
     "text": [
      "I don't consider Fireplace as an actual furniture.\n"
     ]
    }
   ],
   "source": [
    "# .pop() removes elements at the end of a list but you can pop any element by adding the index position in the ()\n",
    "furniture = ['chair', 'bed', 'couch', 'table', 'fireplace', 'bar stool']\n",
    "unique_furniture = furniture.pop(4)\n",
    "print(\"I don't consider \" + unique_furniture.title() + \" as an actual furniture.\")"
   ]
  },
  {
   "cell_type": "code",
   "execution_count": 49,
   "metadata": {},
   "outputs": [
    {
     "name": "stdout",
     "output_type": "stream",
     "text": [
      "['soap', 'wash cloth', 'conditioner', 'towel']\n",
      "I don't like shampoo.\n"
     ]
    }
   ],
   "source": [
    "# use .remove() if you need to remove an element that you don't know the index position of\n",
    "shower_items = ['soap', 'wash cloth', 'shampoo', 'conditioner', 'towel']\n",
    "hair_product = 'shampoo'\n",
    "shower_items.remove(hair_product)\n",
    "print(shower_items)\n",
    "print(\"I don't like \" + hair_product + \".\")\n",
    "\n"
   ]
  },
  {
   "cell_type": "code",
   "execution_count": 53,
   "metadata": {},
   "outputs": [
    {
     "name": "stdout",
     "output_type": "stream",
     "text": [
      "['martin luther king', 'kerry washington', 'kobe', 'nas']\n",
      "Dear Martin Luther King, you are highly invited to dinner at my house.\n",
      "Dear Nas, you are highly invited to dinner at my house.\n",
      "Dear Kerry Washington, you are highly invited to dinner at my house.\n",
      "Dear Kobe, you are highly invited to dinner at my house.\n"
     ]
    }
   ],
   "source": [
    "# practice from textbook\n",
    "guest_list = ['martin luther king', 'kerry washington', 'kobe', 'nas']\n",
    "print(guest_list)\n",
    "print(\"Dear \" + guest_list[0].title() + \", you are highly invited to dinner at my house.\")\n",
    "print(\"Dear \" + guest_list[-1].title() + \", you are highly invited to dinner at my house.\")\n",
    "print(\"Dear \" + guest_list[1].title() + \", you are highly invited to dinner at my house.\")\n",
    "print(\"Dear \" + guest_list[-2].title() + \", you are highly invited to dinner at my house.\")\n",
    "absentee = 'martin luther king'\n",
    "guest_list.remove('martin luther king')\n",
    "print(absentee)"
   ]
  },
  {
   "cell_type": "code",
   "execution_count": 84,
   "metadata": {},
   "outputs": [
    {
     "name": "stdout",
     "output_type": "stream",
     "text": [
      "Martin Luther King can't attend dinner.\n",
      "Big Meech you are highly invited to dinner at my house.\n",
      "Kerry Washington you are highly invited to dinner at my house.\n",
      "Kobe you are highly invited to dinner at my house.\n",
      "Nas you are highly invited to dinner at my house.\n",
      "['50 cent', 'big meech', 'beyonce', 'kerry washington', 'kobe', 'nas', 'tristan harris']\n",
      "I can only invite two guests\n"
     ]
    }
   ],
   "source": [
    "# practice from textbook\n",
    "guest_list = ['martin luther king', 'kerry washington', 'kobe', 'nas']\n",
    "absentee = 'martin luther king'\n",
    "guest_list.remove('martin luther king')\n",
    "print(absentee.title() + \" can't attend dinner.\")\n",
    "guest_list.insert(0, 'big meech')\n",
    "\n",
    "print(guest_list[0].title() + \" you are highly invited to dinner at my house.\")\n",
    "print(guest_list[1].title() + \" you are highly invited to dinner at my house.\")\n",
    "print(guest_list[2].title() + \" you are highly invited to dinner at my house.\")\n",
    "print(guest_list[3].title() + \" you are highly invited to dinner at my house.\")\n",
    "guest_list.insert(0, '50 cent')\n",
    "guest_list.insert(2, 'beyonce')\n",
    "guest_list.append('tristan harris')\n",
    "print(guest_list)\n",
    "news_flash = \"I can only invite two guests\"\n",
    "print(news_flash)\n",
    "\n"
   ]
  },
  {
   "cell_type": "code",
   "execution_count": 114,
   "metadata": {},
   "outputs": [
    {
     "name": "stdout",
     "output_type": "stream",
     "text": [
      "I can only invite two guests\n",
      "Dear 50, sorry I can't have you at dinner.\n",
      "['meech', 'bey', 'washington', 'kobo', 'nasta', 'harris']\n",
      "Dear Meech, sorry I can't have you at dinner.\n",
      "I shall be inviting 5 dignitaries to my party.\n"
     ]
    }
   ],
   "source": [
    "# DONT write back to back .pop() commands. won't work. pop one at a time\n",
    "guest = ['50','meech', 'bey', 'washington', 'kobo', 'nasta', 'harris']\n",
    "news_flash = \"I can only invite two guests\"\n",
    "print(news_flash)\n",
    "deny = guest.pop(0)\n",
    "print(\"Dear \" + deny.title() + \", sorry I can't have you at dinner.\")\n",
    "print(guest)\n",
    "deny = guest.pop(0)\n",
    "print(\"Dear \" + deny_2.title() + \", sorry I can't have you at dinner.\")\n",
    "party = len(guest)\n",
    "print(\"I shall be inviting \" + str(party) + \" dignitaries to my party.\" )\n"
   ]
  },
  {
   "cell_type": "code",
   "execution_count": 86,
   "metadata": {},
   "outputs": [
    {
     "name": "stdout",
     "output_type": "stream",
     "text": [
      "['acura', 'audi', 'bentley', 'camarro', 'escalade', 'hellcat', 'lambo']\n",
      "['lambo', 'hellcat', 'escalade', 'camarro', 'bentley', 'audi', 'acura']\n"
     ]
    }
   ],
   "source": [
    "# using the .sort() method to sort lists permanently\n",
    "car_brands = ['bentley', 'camarro', 'hellcat', 'escalade', 'audi', 'lambo', 'acura']\n",
    "car_brands.sort()\n",
    "print(car_brands)\n",
    "\n",
    "# lists can be sorted in reverse order by passing the reverse=true argument to the sort() method\n",
    "car_brands.sort(reverse=True)\n",
    "print(car_brands)"
   ]
  },
  {
   "cell_type": "code",
   "execution_count": 91,
   "metadata": {},
   "outputs": [
    {
     "name": "stdout",
     "output_type": "stream",
     "text": [
      "['acura', 'audi', 'bentley', 'camarro', 'escalade', 'hellcat', 'lambo']\n",
      "['lambo', 'hellcat', 'escalade', 'camarro', 'bentley', 'audi', 'acura']\n"
     ]
    }
   ],
   "source": [
    "# use the .sorted() to sort lists temporarily..doesn't change original order of list\n",
    "car_brands = ['bentley', 'camarro', 'hellcat', 'escalade', 'audi', 'lambo', 'acura']\n",
    "print(sorted(car_brands))\n",
    "car_brands.sort(reverse=True)\n",
    "print(car_brands)"
   ]
  },
  {
   "cell_type": "code",
   "execution_count": 102,
   "metadata": {},
   "outputs": [
    {
     "name": "stdout",
     "output_type": "stream",
     "text": [
      "This is the original list:\n",
      "['bentley', 'camarro', 'hellcat', 'escalade', 'audi', 'lambo', 'acura']\n",
      "\n",
      "This is the sorted list:\n",
      "['acura', 'audi', 'bentley', 'camarro', 'escalade', 'hellcat', 'lambo']\n",
      "\n",
      "This is the original list again:\n",
      "['bentley', 'camarro', 'hellcat', 'escalade', 'audi', 'lambo', 'acura']\n"
     ]
    }
   ],
   "source": [
    "# using method sort(), and function sorted()\n",
    "car_brands = ['bentley', 'camarro', 'hellcat', 'escalade', 'audi', 'lambo', 'acura']\n",
    "print(\"This is the original list:\")\n",
    "print(car_brands)\n",
    "\n",
    "print(\"\\nThis is the sorted list:\")\n",
    "print(sorted(car_brands))\n",
    "\n",
    "print(\"\\nThis is the original list again:\")\n",
    "print(car_brands)"
   ]
  },
  {
   "cell_type": "code",
   "execution_count": 105,
   "metadata": {},
   "outputs": [
    {
     "name": "stdout",
     "output_type": "stream",
     "text": [
      "['india', 'canada', 'cameroon', 'argentina', 'guyana', 'romania']\n",
      "['romania', 'guyana', 'argentina', 'cameroon', 'canada', 'india']\n",
      "6\n"
     ]
    }
   ],
   "source": [
    "# use the reverse() method to reverse the order of a list permanently\n",
    "countries = ['romania', 'guyana', 'argentina', 'cameroon', 'canada', 'india']\n",
    "\n",
    "countries.reverse()\n",
    "print(countries)\n",
    "\n",
    "countries.reverse()\n",
    "print(countries)\n",
    "\n",
    "# use the len function to find out how long a list is\n",
    "print(len(countries))\n"
   ]
  },
  {
   "cell_type": "code",
   "execution_count": 110,
   "metadata": {},
   "outputs": [
    {
     "name": "stdout",
     "output_type": "stream",
     "text": [
      "['ibiza', 'bora bora', 'vegas', 'norway', 'canada']\n",
      "['bora bora', 'canada', 'ibiza', 'norway', 'vegas']\n",
      "['ibiza', 'bora bora', 'vegas', 'norway', 'canada']\n",
      "['canada', 'norway', 'vegas', 'bora bora', 'ibiza']\n",
      "['ibiza', 'bora bora', 'vegas', 'norway', 'canada']\n",
      "['bora bora', 'canada', 'ibiza', 'norway', 'vegas']\n",
      "['vegas', 'norway', 'ibiza', 'canada', 'bora bora']\n"
     ]
    }
   ],
   "source": [
    "# practice from textbook. Always remembner to use str() if you want number to act as string\n",
    "destinations = ['ibiza', 'bora bora', 'vegas', 'norway', 'canada']\n",
    "print(destinations)\n",
    "print(sorted(destinations))\n",
    "print(destinations)\n",
    "destinations.reverse()\n",
    "print(destinations)\n",
    "destinations.reverse()\n",
    "print(destinations)\n",
    "destinations.sort()\n",
    "print(destinations)\n",
    "destinations.sort(reverse=True)\n",
    "print(destinations)"
   ]
  }
 ],
 "metadata": {
  "kernelspec": {
   "display_name": "Python 3",
   "language": "python",
   "name": "python3"
  },
  "language_info": {
   "codemirror_mode": {
    "name": "ipython",
    "version": 3
   },
   "file_extension": ".py",
   "mimetype": "text/x-python",
   "name": "python",
   "nbconvert_exporter": "python",
   "pygments_lexer": "ipython3",
   "version": "3.8.6"
  }
 },
 "nbformat": 4,
 "nbformat_minor": 4
}
