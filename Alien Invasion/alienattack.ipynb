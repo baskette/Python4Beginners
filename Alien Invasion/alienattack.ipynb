{
 "cells": [
  {
   "cell_type": "code",
   "execution_count": 1,
   "metadata": {},
   "outputs": [
    {
     "name": "stdout",
     "output_type": "stream",
     "text": [
      "pygame 2.0.1 (SDL 2.0.14, Python 3.8.6)\n",
      "Hello from the pygame community. https://www.pygame.org/contribute.html\n"
     ]
    },
    {
     "ename": "SystemExit",
     "evalue": "",
     "output_type": "error",
     "traceback": [
      "An exception has occurred, use %tb to see the full traceback.\n",
      "\u001b[1;31mSystemExit\u001b[0m\n"
     ]
    },
    {
     "name": "stderr",
     "output_type": "stream",
     "text": [
      "c:\\users\\chuka\\appdata\\local\\programs\\python\\python38\\lib\\site-packages\\IPython\\core\\interactiveshell.py:3426: UserWarning: To exit: use 'exit', 'quit', or Ctrl-D.\n",
      "  warn(\"To exit: use 'exit', 'quit', or Ctrl-D.\", stacklevel=1)\n"
     ]
    }
   ],
   "source": [
    "import sys\n",
    "\n",
    "import pygame\n",
    "from pygame.sprite import Group\n",
    "from settings import Settings\n",
    "from game_stats import GameStats\n",
    "from scoreboard import Scoreboard\n",
    "from button import Button\n",
    "from ship import Ship\n",
    "from alien import Alien\n",
    "import game_functions as gf\n",
    "\n",
    "def run_game():\n",
    "    # Initialize pygame, settings, and screen object.\n",
    "    pygame.init()\n",
    "    ai_settings = Settings()\n",
    "    screen = pygame.display.set_mode(\n",
    "        (ai_settings.screen_width, ai_settings.screen_height))\n",
    "    pygame.display.set_caption(\"Alien Attack\")\n",
    "    \n",
    "    # Make the Play button.\n",
    "    play_button = Button(ai_settings, screen, \"Play\")\n",
    "    \n",
    "    # Create an instance to store game statistics and a scoreboard.\n",
    "    stats = GameStats(ai_settings)\n",
    "    sb = Scoreboard(ai_settings, screen, stats)\n",
    "    # Make a ship, a group of bullets, and a group of aliens.\n",
    "    ship = Ship(ai_settings,screen)\n",
    "    bullets = Group()\n",
    "    aliens = Group()\n",
    "    \n",
    "    # Create the fleet of aliens.\n",
    "    gf.create_fleet(ai_settings, screen, ship, aliens)\n",
    "    \n",
    "    \n",
    "    # Set the background color.\n",
    "    bg_color = 230, 230, 230\n",
    "    \n",
    "    # Make an alien.\n",
    "    alien = Alien(ai_settings, screen)\n",
    "    \n",
    "    # Start the main loop for the game.\n",
    "    while True:\n",
    "        gf.check_events(ai_settings, screen, stats, sb, play_button, ship, aliens,  bullets)\n",
    "        \n",
    "        if stats.game_active:\n",
    "            ship.update()\n",
    "            gf.update_bullets(ai_settings, screen, stats, sb, ship, aliens, bullets)\n",
    "            gf.update_aliens(ai_settings, screen, stats, sb, ship, aliens, bullets)\n",
    "        gf.update_screen(ai_settings, screen, stats, sb, ship, aliens, bullets, play_button)\n",
    "     \n",
    "    \n",
    "    \n",
    "        \n",
    "    \n",
    "    \n",
    "\n",
    "run_game()\n"
   ]
  }
 ],
 "metadata": {
  "kernelspec": {
   "display_name": "Python 3",
   "language": "python",
   "name": "python3"
  },
  "language_info": {
   "codemirror_mode": {
    "name": "ipython",
    "version": 3
   },
   "file_extension": ".py",
   "mimetype": "text/x-python",
   "name": "python",
   "nbconvert_exporter": "python",
   "pygments_lexer": "ipython3",
   "version": "3.8.6"
  }
 },
 "nbformat": 4,
 "nbformat_minor": 4
}
